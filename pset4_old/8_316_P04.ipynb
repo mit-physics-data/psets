{
 "cells": [
  {
   "cell_type": "markdown",
   "id": "02dd2f9a",
   "metadata": {
    "id": "02dd2f9a",
    "tags": [
     "learner",
     "md",
     "learner_chopped"
    ]
   },
   "source": [
    "<hr style=\"height: 1px;\">\n",
    "<i>This notebook was authored by the 8.S50x Course Team, Copyright 2022 MIT All Rights Reserved.</i>\n",
    "<hr style=\"height: 1px;\">\n",
    "<br>\n",
    "\n",
    "<h1>Pset 4: Problems Using Numerical Simulation</h1>\n"
   ]
  },
  {
   "cell_type": "markdown",
   "id": "7d8b809e",
   "metadata": {
    "id": "7d8b809e",
    "tags": [
     "learner",
     "md",
     "learner_chopped"
    ]
   },
   "source": [
    "<a name='section_4_0'></a>\n",
    "<hr style=\"height: 1px;\">\n",
    "\n",
    "\n",
    "## <h2 style=\"border:1px; border-style:solid; padding: 0.25em; color: #FFFFFF; background-color: #90409C\">P4.0 Overview</h2>\n"
   ]
  },
  {
   "cell_type": "markdown",
   "id": "fc477952",
   "metadata": {
    "id": "fc477952",
    "tags": [
     "learner",
     "md",
     "learner_chopped"
    ]
   },
   "source": [
    "<h3>Navigation</h3>\n",
    "\n",
    "<table style=\"width:100%\">\n",
    "    <tr>\n",
    "        <td style=\"text-align: left; vertical-align: top; font-size: 10pt;\"><a href=\"#section_4_1\">P4.1 Double Pendulum</a></td>\n",
    "        <td style=\"text-align: left; vertical-align: top; font-size: 10pt;\"><a href=\"#problems_4_1\">P4.1 Problems</a></td>\n",
    "    </tr>\n",
    "    <tr>\n",
    "        <td style=\"text-align: left; vertical-align: top; font-size: 10pt;\"><a href=\"#section_4_2\">P4.2 Lattice-Boltzmann Simulation</a></td>\n",
    "        <td style=\"text-align: left; vertical-align: top; font-size: 10pt;\"><a href=\"#problems_4_2\">P4.2 Problems</a></td>\n",
    "    </tr>\n",
    "    <tr>\n",
    "        <td style=\"text-align: left; vertical-align: top; font-size: 10pt;\"><a href=\"#section_4_3\">P4.3 Monte Carlo Simulation</a></td>\n",
    "        <td style=\"text-align: left; vertical-align: top; font-size: 10pt;\"><a href=\"#problems_4_3\">P4.3 Problems</a></td>\n",
    "    </tr>\n",
    "    <tr>\n",
    "        <td style=\"text-align: left; vertical-align: top; font-size: 10pt;\"><a href=\"#section_4_4\">P4.4 Simulating a partial differential equation: the time dependent Ginzburg Landau (TDGL) equation</a></td>\n",
    "        <td style=\"text-align: left; vertical-align: top; font-size: 10pt;\"><a href=\"#problems_4_4\">P4.4 Problems</a></td>\n",
    "    </tr>\n",
    "    <tr>\n",
    "        <td style=\"text-align: left; vertical-align: top; font-size: 10pt;\"><a href=\"#section_4_5\">P4.5 Solving differential equations with neural nets</a></td>\n",
    "        <td style=\"text-align: left; vertical-align: top; font-size: 10pt;\"><a href=\"#problems_4_5\">P4.5 Problems</a></td>\n",
    "    </tr>\n",
    "</table>\n",
    "\n"
   ]
  },
  {
   "cell_type": "markdown",
   "id": "178cf1d4",
   "metadata": {
    "id": "178cf1d4",
    "tags": [
     "learner",
     "md"
    ]
   },
   "source": [
    "<h3>Learning Objectives</h3>\n",
    "\n",
    "In these problems, we will explore several examples utilizing numerical simulation. For each case, there will be several questions which lead to building a full-fledged simulation of the physical system or computational task under consideration. Specifically, we will explore the following:\n",
    "\n",
    "- Double-pendulum\n",
    "- Lattice-Boltzmann simulation\n",
    "- Monte Carlo simulation\n",
    "- Simulating a partial differential equation: the time dependent Ginzburg Landau (TDGL) equation\n",
    "- Solving differential equations with neural nets"
   ]
  },
  {
   "cell_type": "markdown",
   "id": "5cf300ff",
   "metadata": {
    "id": "5cf300ff",
    "tags": [
     "learner",
     "md"
    ]
   },
   "source": [
    "<h3>Importing Libraries</h3>\n",
    "\n",
    "Before beginning, run the cell below to import the relevant libraries for this notebook."
   ]
  },
  {
   "cell_type": "code",
   "execution_count": null,
   "id": "06bdc10f",
   "metadata": {
    "id": "06bdc10f",
    "tags": [
     "learner",
     "py",
     "learner_chopped"
    ]
   },
   "outputs": [],
   "source": [
    "#>>>RUN: P4.0-runcell00\n",
    "\n",
    "#install the following:\n",
    "\n",
    "#conda install -c conda-forge imageio\n",
    "#pip install imageio\n",
    "#pip3 install torch torchvision torchaudio"
   ]
  },
  {
   "cell_type": "code",
   "execution_count": null,
   "id": "10940911",
   "metadata": {
    "id": "06bdc10f",
    "tags": [
     "learner",
     "py",
     "learner_chopped"
    ]
   },
   "outputs": [],
   "source": [
    "#>>>RUN: P4.0-runcell01\n",
    "\n",
    "from scipy.integrate import odeint\n",
    "import matplotlib.patches as patches\n",
    "import numpy as np\n",
    "import matplotlib.pyplot as plt\n",
    "import imageio\n",
    "from IPython.display import Image\n",
    "import random"
   ]
  },
  {
   "cell_type": "markdown",
   "id": "2305bb60",
   "metadata": {
    "id": "2305bb60",
    "tags": [
     "learner",
     "md"
    ]
   },
   "source": [
    "<h3>Setting Default Figure Parameters</h3>\n",
    "\n",
    "The following code cell sets default values for figure parameters."
   ]
  },
  {
   "cell_type": "code",
   "execution_count": null,
   "id": "f957ae03",
   "metadata": {
    "id": "f957ae03",
    "tags": [
     "learner",
     "py",
     "learner_chopped"
    ]
   },
   "outputs": [],
   "source": [
    "#>>>RUN: P4.0-runcell02\n",
    "\n",
    "#set plot resolution\n",
    "%config InlineBackend.figure_format = 'retina'\n",
    "\n",
    "#set default figure parameters\n",
    "plt.rcParams['figure.figsize'] = (9,6)\n",
    "\n",
    "medium_size = 12\n",
    "large_size = 15\n",
    "\n",
    "plt.rc('font', size=medium_size)          # default text sizes\n",
    "plt.rc('xtick', labelsize=medium_size)    # xtick labels\n",
    "plt.rc('ytick', labelsize=medium_size)    # ytick labels\n",
    "plt.rc('legend', fontsize=medium_size)    # legend\n",
    "plt.rc('axes', titlesize=large_size)      # axes title\n",
    "plt.rc('axes', labelsize=large_size)      # x and y labels\n",
    "plt.rc('figure', titlesize=large_size)    # figure title\n"
   ]
  },
  {
   "cell_type": "markdown",
   "id": "b7a7f5b7",
   "metadata": {
    "id": "b7a7f5b7",
    "tags": [
     "learner",
     "md"
    ]
   },
   "source": [
    "<a name='section_4_1'></a>\n",
    "<hr style=\"height: 1px;\">\n",
    "\n",
    "## <h2 style=\"border:1px; border-style:solid; padding: 0.25em; color: #FFFFFF; background-color: #90409C\">P4.1 Double Pendulum</h2>    \n",
    "\n",
    "| [Top](#section_4_0) | [Previous Section](#section_4_0) | [Problems](#problems_4_1) | [Next Section](#section_4_2) |\n"
   ]
  },
  {
   "cell_type": "markdown",
   "id": "267f5cf7",
   "metadata": {
    "id": "267f5cf7",
    "tags": [
     "learner",
     "md"
    ]
   },
   "source": [
    "<h3>Overview</h3>\n",
    "\n",
    "The double pendulum is a system in classical mechanics where one pendulum is attached to the end of another pendulum. Its equations of motion are usually expressed using the Lagrangian mechanics and solved numerically, which is what we will do in this problem"
   ]
  },
  {
   "cell_type": "code",
   "execution_count": null,
   "id": "73d7a048",
   "metadata": {
    "tags": [
     "learner",
     "py",
     "learner_chopped"
    ]
   },
   "outputs": [],
   "source": [
    "#Below is a reworking of \n",
    "#https://scipython.com/blog/the-double-pendulum/\n",
    "#https://github.com/zaman13/Double-Pendulum-Motion-Animation/blob/master/Python%20Code/Double_Pendulum_v1.py\n",
    "\n",
    "## Setting up the differential equations to be solved\n",
    "\n",
    "def theta1ddot(theta1,theta1dot,theta2,theta2dot,m,ell,g):\n",
    "        st1t2=np.sin(theta1-theta2)\n",
    "        ct1t2=np.cos(theta1-theta2)\n",
    "        term1=-m*ell**2*st1t2*(ct1t2*theta1dot**2 + theta2dot**2)\n",
    "        term2= m*g*ell*(-2*np.sin(theta1)+np.sin(theta2)*ct1t2)\n",
    "        denom=m*ell**2*(1+st1t2**2)\n",
    "        return (term1+term2)/denom\n",
    "\n",
    "def theta2ddot(theta1,theta1dot,theta2,theta2dot,m,ell,g):\n",
    "        st1t2=np.sin(theta1-theta2)\n",
    "        ct1t2=np.cos(theta1-theta2)\n",
    "        term1=m*ell**2*st1t2*(ct1t2*theta2dot**2 + 2*theta1dot**2)\n",
    "        term2=2*m*g*ell*(-np.sin(theta2)+np.sin(theta1)*ct1t2)\n",
    "        denom=m*ell**2*(1+st1t2**2)\n",
    "        return (term1+term2)/denom\n",
    "\n",
    "\n",
    "def ode(y, t, l, m, g):\n",
    "    \"\"\"Return the first derivatives of y = theta1, z1, theta2, z2.\"\"\"\n",
    "    theta1, theta1dot, theta2, theta2dot = y\n",
    "    t1ddt=theta1ddot(theta1,theta1dot,theta2,theta2dot,m,l,g)\n",
    "    t2ddt=theta2ddot(theta1,theta1dot,theta2,theta2dot,m,l,g)\n",
    "    return theta1dot,t1ddt,theta2dot,t2ddt\n",
    "\n",
    "def energy(y,l,m,g):\n",
    "    theta1, theta1dot, theta2, theta2dot = y.T # Note the.T transposes it so we can unpack\n",
    "    ct1t2=np.cos(theta1-theta2)\n",
    "    U=-2*m*g*l*np.cos(theta1)-m*g*l*np.cos(theta2)\n",
    "    K=m*l**2*theta1dot**2+m*l**2/2*(theta2dot**2+2*theta1dot*theta2dot*ct1t2)\n",
    "    return K+U\n",
    "\n",
    "## set up pendulum parameters\n",
    "l=5#m\n",
    "m=1#kg\n",
    "g=9.8#kgm/s^2"
   ]
  },
  {
   "cell_type": "markdown",
   "id": "fe08ba86",
   "metadata": {
    "id": "fe08ba86",
    "tags": [
     "learner",
     "md",
     "learner_chopped"
    ]
   },
   "source": [
    "<a name='problems_4_1'></a>     \n",
    "\n",
    "| [Top](#section_4_0) | [Restart Section](#section_4_1) | [Next Section](#section_4_2) |\n"
   ]
  },
  {
   "cell_type": "markdown",
   "id": "a62020af",
   "metadata": {
    "id": "a62020af",
    "tags": [
     "learner",
     "md",
     "learner_chopped"
    ]
   },
   "source": [
    "### <span style=\"border:3px; border-style:solid; padding: 0.15em; border-color: #90409C; color: #90409C;\">Problem 4.1.1</span>\n",
    "\n",
    "Later in this problem when doing the numerics, one parameter we can easily calculate is the energy of the system. Before doing any numerics, is energy conserved in this system?\n"
   ]
  },
  {
   "cell_type": "markdown",
   "id": "9211fe57",
   "metadata": {
    "id": "a62020af",
    "tags": [
     "learner",
     "md",
     "learner_chopped"
    ]
   },
   "source": [
    "### <span style=\"border:3px; border-style:solid; padding: 0.15em; border-color: #90409C; color: #90409C;\">Problem 4.1.2</span>\n",
    "\n",
    "Report the total energy for systems with the following initial conditions (consider four separate cases and report your answer as a list of number with precision 1e-1): `[energy case1, energy case2, energy case3, energy case4]`\n",
    "\n",
    "Case 1: no initial amplitude, no initial angular velocity\\\n",
    "Case 2: small initial amplitude of pendulum 1 only (other initial conditions zero): `theta1=0.02*pi`\\\n",
    "Case 3: larger initial amplitude of both pendula (angular velocities zero): `theta1=0.3*pi`, `theta2=0.2*pi`\\\n",
    "Case 4: nearly vertical (angular velocities zero): `theta1=0.9*pi`, `theta2=*pi`"
   ]
  },
  {
   "cell_type": "code",
   "execution_count": null,
   "id": "17072bb4",
   "metadata": {
    "id": "b7e7516d",
    "tags": [
     "draft",
     "py",
     "learner_chopped"
    ]
   },
   "outputs": [],
   "source": [
    "#>>>PROBLEM: P4.1.2\n",
    "# Use this cell for drafting your solution (if desired),\n",
    "# then enter your solution in the interactive problem online to be graded.\n",
    "\n",
    "#define arrays for the 4 cases by setting the initial conditions in y0,\n",
    "#e.g., y0_case1=np.array([theta1_case1, theta1dot_case1, theta2_case1, theta2dot_case1])\n",
    "\n",
    "y0_case1 = #YOUR CODE HERE\n",
    "y0_case2 = #YOUR CODE HERE\n",
    "y0_case3 = #YOUR CODE HERE\n",
    "y0_case4 = #YOUR CODE HERE\n",
    "\n",
    "#print the energy for each case, using `energy(y,l,m,g)`"
   ]
  },
  {
   "cell_type": "markdown",
   "id": "61b4828d",
   "metadata": {
    "id": "a62020af",
    "tags": [
     "learner",
     "md",
     "learner_chopped"
    ]
   },
   "source": [
    "### <span style=\"border:3px; border-style:solid; padding: 0.15em; border-color: #90409C; color: #90409C;\">Problem 4.1.3</span>\n",
    "\n",
    "Before doing a simulation, it can be useful to think about test cases where you know the answer to check your simulation outputs. One simple way to decompose a system is into normal modes. \n",
    "\n",
    "\n",
    "Which of the following statements is true about the normal modes of a double-pendulum system?\n",
    "\n",
    "A) There is only one normal mode, which is called the out-of-phase mode.\\\n",
    "B) There are two normal modes, which are called the in-phase mode and the out-of-phase mode.\\\n",
    "C) There are three normal modes, which are called the in-phase mode, the out-of-phase mode, and the chaotic mode.\\\n",
    "D) There are four normal modes, which are called the in-phase mode, the out-of-phase mode, the chaotic mode, and the stable mode.\n",
    "\n"
   ]
  },
  {
   "cell_type": "markdown",
   "id": "c4b2ded7",
   "metadata": {
    "tags": [
     "learner",
     "md"
    ]
   },
   "source": [
    "<h3>Run the Simulation</h3>\n",
    "\n",
    "Now run the cells below to see the simulation."
   ]
  },
  {
   "cell_type": "code",
   "execution_count": null,
   "id": "10372b65",
   "metadata": {
    "tags": [
     "py",
     "learner_chopped",
     "learner"
    ]
   },
   "outputs": [],
   "source": [
    "## Solve the differenial equation with odeint and make a video of the bob's motion\n",
    "def run(y0):\n",
    "\n",
    "    # y0 is the initial conditions theta1, theta1dot, theta2, theta2dot = y\n",
    "    # for example y0=np.array([np.pi*0.1,0,np.pi*0.2,0])\n",
    "    \n",
    "    #Time\n",
    "    tmax=30#s\n",
    "    dt=1e-2#s\n",
    "    t=np.arange(0, tmax+dt, dt)\n",
    "\n",
    "    #The works\n",
    "    y = odeint(ode, y0, t, args=(l,m,g))\n",
    "    #print(y)\n",
    "    \n",
    "    #the check\n",
    "    en=energy(y,l,m,g)\n",
    "    \n",
    "    return t,y,en\n",
    "    \n",
    "    \n",
    "#===========Plotting \n",
    "def make_plot(i,y,l,g,ax,fig,images):\n",
    "    plt.cla()\n",
    "    # Plot and save an image of the double pendulum configuration for time\n",
    "    # point i.\n",
    "    # The pendulum rods.\n",
    "    theta1=y[:,0]\n",
    "    theta2=y[:,2]\n",
    "    x1 = l  * np.sin(theta1)\n",
    "    y1 = -l * np.cos(theta1)\n",
    "    x2 = x1 + l * np.sin(theta2)\n",
    "    y2 = y1 - l * np.cos(theta2)\n",
    "    ax.plot([0, x1[i], x2[i]], [0, y1[i], y2[i]], lw=2, c='k')\n",
    "\n",
    "    # Circles representing the anchor point of rod 1, and bobs 1 and 2.\n",
    "    r = 0.35\n",
    "    c0 = patches.Circle((0, 0), r/2, fc='k', zorder=10)\n",
    "    c1 = patches.Circle((x1[i], y1[i]), r, fc='b', ec='b', zorder=10)\n",
    "    c2 = patches.Circle((x2[i], y2[i]), r, fc='r', ec='r', zorder=10)\n",
    "    ax.add_patch(c0)\n",
    "    ax.add_patch(c1)\n",
    "    ax.add_patch(c2)\n",
    "\n",
    "    # The trail will be divided into ns segments and plotted as a fading line.\n",
    "    ns = 20\n",
    "    trail_secs = 1\n",
    "    dt=1e-2#s\n",
    "    max_trail = int(1 / dt)\n",
    "    s = max_trail // ns\n",
    "\n",
    "    for j in range(ns):\n",
    "        imin = i - (ns-j)*s\n",
    "        if imin < 0:\n",
    "            continue\n",
    "        imax = imin + s + 1\n",
    "        # The fading looks better if we square the fractional length along the\n",
    "        # trail.\n",
    "        alpha = (j/ns)**2\n",
    "        ax.plot(x2[imin:imax], y2[imin:imax], c='r', solid_capstyle='butt',\n",
    "                lw=2, alpha=alpha)\n",
    "\n",
    "    # Centre the image on the fixed anchor point, and ensure the axes are equal\n",
    "    ax.set_xlim(-l-l-r, l+l+r)\n",
    "    ax.set_ylim(-l-l-r, l+l+r)\n",
    "    ax.set_aspect('equal', adjustable='box')\n",
    "    plt.axis('off')\n",
    "    fps = 10\n",
    "    di = int(1/fps/dt)\n",
    "    # plt.savefig('frames/_img{:04d}.png'.format(i//di), dpi=72)\n",
    "    # plt.cla()\n",
    "    #plt.show()\n",
    "    fig.canvas.draw()       # draw the canvas, cache the renderer\n",
    "    image = np.frombuffer(fig.canvas.tostring_rgb(), dtype='uint8')\n",
    "    image  = image.reshape(fig.canvas.get_width_height()[::-1] + (3,))\n",
    "    images.append(image)"
   ]
  },
  {
   "cell_type": "code",
   "execution_count": null,
   "id": "1ad66280",
   "metadata": {
    "tags": [
     "py",
     "learner_chopped",
     "learner"
    ]
   },
   "outputs": [],
   "source": [
    "#set the initial conditions and run the simulation\n",
    "\n",
    "#Define a new y0, or test cases defined previously\n",
    "#e.g.,y0=y0_case1\n",
    "#y0 = #YOUR CODE HERE\n",
    "\n",
    "y0=y0_case3\n",
    "\n",
    "t,y,en=run(y0)\n",
    "\n",
    "fps = 1000\n",
    "dt=.0001\n",
    "di = int(1/fps/dt)\n",
    "fig = plt.figure(figsize=(8.3333, 6.25), dpi=72)\n",
    "ax = fig.add_subplot(111)\n",
    "\n",
    "# Create the output of the simulation, stored in the variable `images`\n",
    "images=[]\n",
    "for i in range(0, t.size, di):\n",
    "    #print(i // di, '/', t.size // di)\n",
    "    make_plot(i,y,l,g,ax,fig,images)\n",
    "    \n",
    "\n",
    "# Comment out plt.close() to view the last image from the simulation, if desired\n",
    "plt.close()\n",
    "\n",
    "#save the gif\n",
    "imageio.mimsave('./double_p.gif', images, fps=10)"
   ]
  },
  {
   "cell_type": "code",
   "execution_count": null,
   "id": "0e1f97b0",
   "metadata": {
    "tags": [
     "py",
     "learner",
     "learner_chopped"
    ]
   },
   "outputs": [],
   "source": [
    "# VIEW THE GIF\n",
    "# comment out the line and run again to hide\n",
    "\n",
    "#Image(open('double_p.gif','rb').read())"
   ]
  },
  {
   "cell_type": "code",
   "execution_count": null,
   "id": "47ca25ec",
   "metadata": {
    "tags": [
     "py",
     "learner_chopped",
     "learner"
    ]
   },
   "outputs": [],
   "source": [
    "## plot the bobs' angles vs time and energy\n",
    "## use previously defined y0, above\n",
    "\n",
    "plt.plot(t,y[:,0],color='blue')\n",
    "plt.plot(t,y[:,2],color='red')\n",
    "plt.xlabel(\"Time [seconds]\")\n",
    "plt.ylabel(r\"$\\theta$\")\n",
    "plt.show()\n",
    "\n",
    "\n",
    "plt.plot(t,en,color='blue')\n",
    "plt.xlabel(\"Time [seconds]\")\n",
    "plt.ylabel(\"Energy\")\n",
    "plt.show()\n",
    "\n",
    "fig = plt.figure(figsize=(8.3333, 6.25), dpi=72)\n",
    "ax = fig.add_subplot(111)\n",
    "make_plot(10,y,l,g,ax,fig,images)\n",
    "plt.show()"
   ]
  },
  {
   "cell_type": "markdown",
   "id": "d862e827",
   "metadata": {
    "id": "a62020af",
    "tags": [
     "learner",
     "md",
     "learner_chopped"
    ]
   },
   "source": [
    "### <span style=\"border:3px; border-style:solid; padding: 0.15em; border-color: #90409C; color: #90409C;\">Problem 4.1.4</span>\n",
    "\n",
    "For each of the following initial conditions, describe the bob's motion. To do this, edit and run the relevant code above and analyze plots of $\\theta$ vs. $t$ for each case.\n",
    "\n",
    "<pre>\n",
    "#initial conditions:\n",
    "y0_case1=np.array([0,0,0,0])\n",
    "y0_case2=np.array([np.pi*0.02,0,np.pi*0.0,0])\n",
    "y0_case3=np.array([np.pi*0.3,0,np.pi*0.2,0])\n",
    "y0_case4=np.array([np.pi*.9,0,np.pi*1,0]) \n",
    "</pre>\n",
    "\n",
    "Select your answer for each case from the following options:\n",
    "\n",
    "A) Stationary\\\n",
    "B) Each bob oscillates at a single frequency\\\n",
    "C) Each bob oscillates periodically and displays beats\\\n",
    "D) One bob oscillates periodically and one bob oscillates chaotically\\\n",
    "E) Both bobs oscillate chaotically\n",
    "\n",
    "\n",
    "Enter your answer as a list of **uppercase** letters, corresponding to the correct choices for each set of initial conditions, i.e.: `[answer case1, answer case2, answer case3, answer case4 ]` should be entered as, e.g., `['A','B','C','D']`, where the letters are **capitalized** and listed as strings."
   ]
  },
  {
   "cell_type": "markdown",
   "id": "7107b5fe",
   "metadata": {
    "id": "a62020af",
    "tags": [
     "learner",
     "md",
     "learner_chopped"
    ]
   },
   "source": [
    "### <span style=\"border:3px; border-style:solid; padding: 0.15em; border-color: #90409C; color: #90409C;\">Problem 4.1.5</span>\n",
    "\n",
    "\n",
    "Is energy conserved during the evolution for each of the above initial conditions? Try plotting the energy in each case to determine your answer.\n",
    "\n",
    "A) Yes.\\\n",
    "B) No, the energy fluctuates significantly as the pendula move.\\\n",
    "C) No, the energy decays significantly when the bobs are moving."
   ]
  },
  {
   "cell_type": "markdown",
   "id": "d6c4adb2",
   "metadata": {
    "id": "d6c4adb2",
    "tags": [
     "learner",
     "md",
     "learner_chopped"
    ]
   },
   "source": [
    "<a name='section_4_2'></a>\n",
    "<hr style=\"height: 1px;\">\n",
    "\n",
    "## <h2 style=\"border:1px; border-style:solid; padding: 0.25em; color: #FFFFFF; background-color: #90409C\">P4.2 Lattice-Boltzmann Simulation</h2>    \n",
    "\n",
    "| [Top](#section_4_0) | [Previous Section](#section_4_1) | [Problems](#problems_4_2) | [Next Section](#section_4_3) |\n"
   ]
  },
  {
   "cell_type": "markdown",
   "id": "b1264cd6",
   "metadata": {
    "id": "b1264cd6",
    "tags": [
     "learner",
     "md"
    ]
   },
   "source": [
    "<h3>Overview</h3>\n",
    "\n",
    "Lattice Boltzmann modelling using grid systems. \n",
    "Based on the below: \n",
    "https://physics.weber.edu/schroeder/javacourse/LatticeBoltzmann.pdf \n",
    "\n",
    "Also: \n",
    "https://medium.com/swlh/create-your-own-lattice-boltzmann-simulation-with-python-8759e8b53b1c?source=user_profile---------4----------------------------"
   ]
  },
  {
   "cell_type": "markdown",
   "id": "f7de51f5",
   "metadata": {
    "id": "b1264cd6",
    "tags": [
     "learner",
     "md"
    ]
   },
   "source": [
    "The goal of this project is to do a numerical modelling of the the flow momentum using a lattice. To perform this, we will rely on the fact that the momenta of particles are distributed following a Boltzmann distribution. \n",
    "\n",
    "$$ D(\\vec{v}) = \\frac{m}{2\\pi k T} e^{-\\frac{mv^2}{kT}} $$\n",
    "\n",
    "What this means is that when we look at a motionless system the migration in an out of grid is still happening. \n",
    "\n",
    "Furthermore, what this means is that motion in and out can be depicted by the speed of sound in the gas, given by \n",
    "\n",
    "$$ c_{s} = \\sqrt{\\langle v_{x}^2+v_{y}^2+v_{z}^2} = \\sqrt{3\\langle v_{x}^2\\rangle}= \\sqrt{\\frac{3kT}{m}} $$"
   ]
  },
  {
   "cell_type": "markdown",
   "id": "d15d6696",
   "metadata": {
    "id": "b1264cd6",
    "tags": [
     "learner",
     "md"
    ]
   },
   "source": [
    "Mesoscopic model, which is in between microscopic model that describes particle positions and macroscopic models that describe velocity and density directly. LBM instead describes the probability of particles being in various locations.\n",
    "\n",
    "The computational idea of the model invoves two steps: a collision step where particles reorganize and relax to equillibrium and a streaming step where the results of the collision are propogated and each cell is updated.\n",
    "\n",
    "Weights determine the equillibrium density and are set by which model we choose. Changing the weights will change the results and here we choose the D2Q9 model, which tells us that we are working in dimension 2 and the density has 9 possible velocity vectors. The 9 possible velocity vectors correspond to the 8 adjacent cells about a center cell (ie 3x3 grid). Velocity motion can go on the diagonals, and as a result we have 8 possible motions to different cells and one stay motion. \n",
    "\n",
    "The D2Q9 weights can be derived by integrating the boltzman distribution in the 9 possible directions.  Following the grid shown here: ![Screen Shot 2023-04-11 at 1.27.38 AM.png](data:image/png;base64,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)"
   ]
  },
  {
   "cell_type": "code",
   "execution_count": null,
   "id": "08185726",
   "metadata": {
    "tags": [
     "learner",
     "py",
     "learner_chopped"
    ]
   },
   "outputs": [],
   "source": [
    "idx = np.arange(9)\n",
    "cxs = np.array([0, 0, 1, 1, 1, 0,-1,-1,-1]) ## for velocities in the x direction\n",
    "cys = np.array([0, 1, 1, 0,-1,-1,-1, 0, 1]) ## for velocities in the y direction\n",
    "ws  = np.array([4/9,1/9,1/36,1/9,1/36,1/9,1/36,1/9,1/36]) ## weights for D2Q9"
   ]
  },
  {
   "cell_type": "code",
   "execution_count": null,
   "id": "54357a8f",
   "metadata": {
    "tags": [
     "learner",
     "py",
     "learner_chopped"
    ]
   },
   "outputs": [],
   "source": [
    "#Some references\n",
    "#https://d-nb.info/1070218804/34\n",
    "#https://github.com/KnairdA/LiterateLB/blob/master/lbm.org => This covers the problem and goes way deeper\n",
    "#https://arxiv.org/pdf/1909.04502.pdf"
   ]
  },
  {
   "cell_type": "markdown",
   "id": "dbcf3ebe",
   "metadata": {
    "id": "b1264cd6",
    "tags": [
     "learner",
     "md"
    ]
   },
   "source": [
    "In a lattice-Boltzmann simulation, the fundamental dynamical variables are the\n",
    "nine different number densities of particles moving at the nine allowed velocities,\n",
    "at each lattice site. Thus, your simulation will need nine two-dimensional arrays\n",
    "of real numbers to represent these densities\n",
    "\n",
    "At any given time, at a given lattice site, these nine densities can have any\n",
    "positive values. From these values you can then compute the total density, ρ, as\n",
    "well as the x and y components of the average (that is, macroscopic) velocity, ux\n",
    "and uy"
   ]
  },
  {
   "cell_type": "markdown",
   "id": "76c5740b",
   "metadata": {
    "id": "76c5740b",
    "tags": [
     "learner",
     "md",
     "learner_chopped"
    ]
   },
   "source": [
    "<a name='problems_4_2'></a>     \n",
    "\n",
    "| [Top](#section_4_0) | [Restart Section](#section_4_2) | [Next Section](#section_4_3) |\n"
   ]
  },
  {
   "cell_type": "markdown",
   "id": "7aae0c1b",
   "metadata": {
    "id": "7aae0c1b",
    "tags": [
     "learner",
     "md",
     "learner_chopped"
    ]
   },
   "source": [
    "### <span style=\"border:3px; border-style:solid; padding: 0.15em; border-color: #90409C; color: #90409C;\">Problem 4.2.1</span>\n",
    "\n",
    "Write a function to compute the total density at each lattice site, summing over the 9 allowed velocities."
   ]
  },
  {
   "cell_type": "code",
   "execution_count": null,
   "id": "b3ad6ade",
   "metadata": {
    "id": "b7e7516d",
    "tags": [
     "draft",
     "py",
     "learner_chopped"
    ]
   },
   "outputs": [],
   "source": [
    "#>>>PROBLEM: P4.2.1\n",
    "# Use this cell for drafting your solution (if desired),\n",
    "# then enter your solution in the interactive problem online to be graded.\n",
    "\n",
    "## \n",
    "def globalRho(rho):\n",
    "    # input is a density array (rho)\n",
    "    #,2 index is over the velocity directions\n",
    "    return #YOUR CODE HERE\n",
    "\n",
    "\n",
    "#-----------------------------------------------------\n",
    "# CHECK YOUR RESULT\n",
    "\n",
    "#rho is a 3d array that is Nx x Ny x 9, where there are 9 Nx x Ny densities,\n",
    "#and each of those densities has one of the 9 possible velocity options.\n",
    "\n",
    "np.random.seed(42)\n",
    "\n",
    "Nx=100\n",
    "Ny = 100\n",
    "NL = 9\n",
    "var=0.01\n",
    "rho = (np.ones((Ny,Nx,NL)) + var*np.random.randn(Ny,Nx,NL))\n",
    "gRho = globalRho(rho)\n",
    "\n",
    "\n",
    "print(rho.shape)\n",
    "print(gRho.shape)\n",
    "\n",
    "fig, ax = plt.subplots()\n",
    "im = ax.imshow(gRho, cmap='plasma')\n",
    "ax.set_title('Global Density')\n",
    "fig.colorbar(im, ax=ax)\n",
    "plt.show()"
   ]
  },
  {
   "cell_type": "markdown",
   "id": "a0543ea1",
   "metadata": {
    "id": "7aae0c1b",
    "tags": [
     "learner",
     "md",
     "learner_chopped"
    ]
   },
   "source": [
    "### <span style=\"border:3px; border-style:solid; padding: 0.15em; border-color: #90409C; color: #90409C;\">Problem 4.2.2</span>\n",
    "\n",
    "Write a function to compute the velocity."
   ]
  },
  {
   "cell_type": "code",
   "execution_count": null,
   "id": "12e04b91",
   "metadata": {
    "id": "b7e7516d",
    "tags": [
     "draft",
     "py",
     "learner_chopped"
    ]
   },
   "outputs": [],
   "source": [
    "#>>>PROBLEM: P4.2.2\n",
    "# Use this cell for drafting your solution (if desired),\n",
    "# then enter your solution in the interactive problem online to be graded.\n",
    "\n",
    "def globalV(rho,gRho):\n",
    "    # input is a density array (rho) and the total density gRho\n",
    "    #,2 index is over the velocity directions\n",
    "    ux = ##YOUR CODE HERE\n",
    "    uy = ##YOUR CODE HERE\n",
    "    return ux,uy\n",
    "\n",
    "#-----------------------------------------------------\n",
    "# CHECK YOUR RESULT\n",
    "\n",
    "np.random.seed(42)\n",
    "\n",
    "Nx=100\n",
    "Ny = 100\n",
    "NL = 9\n",
    "var=0.01\n",
    "rho = (np.ones((Ny,Nx,NL)) + var*np.random.randn(Ny,Nx,NL))\n",
    "gRho = globalRho(rho)\n",
    "\n",
    "gUx,gUy  = globalV(rho,gRho)\n",
    "\n",
    "# What are the shapes of the arrays\n",
    "print(gUx.shape)\n",
    "#print(gUx.shape)\n",
    "\n",
    "# Plot the output of the function\n",
    "fig, ax = plt.subplots()\n",
    "im = ax.imshow(gUx, cmap='plasma')\n",
    "ax.set_title('Global Ux')\n",
    "fig.colorbar(im, ax=ax)\n",
    "plt.show()"
   ]
  },
  {
   "cell_type": "markdown",
   "id": "57a83dc3",
   "metadata": {
    "tags": [
     "learner",
     "md"
    ]
   },
   "source": [
    "Now we will rearrange the Boltzmann distribution, which tells us the probability that a particle has a particular thermal velocity, $\\vec{v}$, into a form useful for our simulation. The total velocity determined by our simulation is one of the nine options from D2Q9. We will constrain our total velocity $\\vec{u}+\\vec{v}$, which is the sum of the flow velocity $\\vec{u}$ and the thermal velocity $\\vec{v}$ to be equal to $c \\vec{e}_i$.\n",
    "\n",
    "We can rearannge the probability distribution function to become\n",
    "\n",
    "$D(\\vec{v})→ \\frac{m}{2\\pi k T} e^{-\\frac{m}{2kT}|\\vec{e}_i c - \\vec{u}|^2}$\n",
    "\n",
    "Further, we require that $v << c$ so that particles do not have an appreciable chance to move 2 lattice steps per time step. By expanding square term in the exponential and then taylor expanding each term, we find the first factor corresponds to the probability of having velocity $c \\vec{e_i}$ when the flow velocity is 0, which is exactly the weight $w_i$.\n",
    "\n",
    "This leads to the equation\n",
    "\n",
    "$D(\\vec{v})→ w_i \\big( 1 + \\frac{3 \\vec{e_i} \\cdot \\vec{u}}{c} + \\frac{9}{2} (\\frac{\\vec{e_i} \\cdot \\vec{u}}{c})^2 -\\frac{3}{2}\\frac{|\\vec{u}|^2}{c}  \\big) $\n",
    "\n",
    "From here on, we will set the speed of sound to 1, $c=1$. This is effectively our new Boltzman distribution when we know have a wind of velocity $\\vec{u}$."
   ]
  },
  {
   "cell_type": "markdown",
   "id": "ea1c4b08",
   "metadata": {
    "id": "7aae0c1b",
    "tags": [
     "learner",
     "md",
     "learner_chopped"
    ]
   },
   "source": [
    "### <span style=\"border:3px; border-style:solid; padding: 0.15em; border-color: #90409C; color: #90409C;\">Problem 4.2.3</span>\n",
    "\n",
    "What is the equation for the equillibrium density? Express your answer using `Dv` for the probability density $D(\\vec{v})$, and `rho` for the density $\\rho$."
   ]
  },
  {
   "cell_type": "markdown",
   "id": "02a411d7",
   "metadata": {
    "id": "7aae0c1b",
    "tags": [
     "learner",
     "md",
     "learner_chopped"
    ]
   },
   "source": [
    "### <span style=\"border:3px; border-style:solid; padding: 0.15em; border-color: #90409C; color: #90409C;\">Problem 4.2.4</span>\n",
    "\n",
    "Complete the code below to update `rho` in the simulation. To do this, define `rhoeq_func` using the definition of the equillibrium density derived above."
   ]
  },
  {
   "cell_type": "code",
   "execution_count": null,
   "id": "829cc0c9",
   "metadata": {
    "id": "b7e7516d",
    "tags": [
     "draft",
     "py",
     "learner_chopped"
    ]
   },
   "outputs": [],
   "source": [
    "#>>>PROBLEM: P4.2.4\n",
    "# Use this cell for drafting your solution (if desired),\n",
    "# then enter your solution in the interactive problem online to be graded.\n",
    "\n",
    "def rhoeq_func(w,gRho,cx,cy,gUx,gUy):\n",
    "    return #YOUR CODE HERE\n",
    "    \n",
    "def updateRho(rho,gRho,gUx,gUy,step):\n",
    "    rhoeq=np.zeros(rho.shape)\n",
    "    for i,cx,cy,w in zip(idx,cxs,cys,ws):\n",
    "        rhoeq[:,:,i] = rhoeq_func(w,gRho,cx,cy,gUx,gUy)\n",
    "    rho += step*(rhoeq-rho)\n",
    "    return rho\n",
    "    "
   ]
  },
  {
   "cell_type": "code",
   "execution_count": null,
   "id": "25b8523d",
   "metadata": {
    "id": "b7e7516d",
    "tags": [
     "py",
     "learner_chopped",
     "learner"
    ]
   },
   "outputs": [],
   "source": [
    "#>>>RUN\n",
    "\n",
    "## Other code DESCRBE WHY THIS CODE MATTERS\n",
    "def moveParts(rho):\n",
    "    for i,cx,cy in zip(idx,cxs,cys):\n",
    "        #Shift each velocity index by appropriate neighbor density\n",
    "        rho[:,:,i] = np.roll(rho[:,:,i],cx,axis=1)\n",
    "        rho[:,:,i] = np.roll(rho[:,:,i],cy,axis=0)\n",
    "    \n",
    "def vorticity(ux,uy):\n",
    "    #input is ux and uy grids\n",
    "    #output is vorticity grid\n",
    "    #nabla\\times u \n",
    "    #0.5(u(x+dx)-u(x-dx)) - (u(y+dy)-u(y-dy))\n",
    "    vort = 0.5*(np.roll(ux,-1,axis=0)-np.roll(ux,1,axis=0) -(np.roll(uy,-1,axis=0)-np.roll(uy,1,axis=0)))\n",
    "    return vort\n"
   ]
  },
  {
   "cell_type": "markdown",
   "id": "2809e3d7",
   "metadata": {
    "id": "7aae0c1b",
    "tags": [
     "learner",
     "md",
     "learner_chopped"
    ]
   },
   "source": [
    "### <span style=\"border:3px; border-style:solid; padding: 0.15em; border-color: #90409C; color: #90409C;\">Problem 4.2.5</span>\n",
    "\n",
    "Complete the following function, the purpose of which is to implement reflecting boundary conditions by updating the density values at the boundary with the reflected values.\n",
    "\n",
    "The function selects the rows of the `rhoOld` array that correspond to the boundary, and assigns it to a variable called `bndryRho` (this is already done). The function should then select the columns of `bndryRho` using the `ref` array to invert the directions, and assign the resulting array back to `bndryRho`. Finally, the reflected `bndryRho` array should be assigned back to the `rho` array at the rows corresponding to the boundary. "
   ]
  },
  {
   "cell_type": "code",
   "execution_count": null,
   "id": "1df9774b",
   "metadata": {
    "id": "b7e7516d",
    "tags": [
     "draft",
     "py",
     "learner_chopped"
    ]
   },
   "outputs": [],
   "source": [
    "#>>>PROBLEM: P4.2.5\n",
    "# Use this cell for drafting your solution (if desired),\n",
    "# then enter your solution in the interactive problem online to be graded.\n",
    "\n",
    "def reflect(rho,rhoOld,boundary):\n",
    "    #Invert all the velocity directions\n",
    "    ref = np.array([0, 5, 6, 7, 8, 1, 2, 3, 4])#map to invert velocity 0->0 1=>5\n",
    "    bndryRho = rhoOld[boundary,:]\n",
    "    bndryRho = ## YOURE CODE HERE\n",
    "    rho[boundary,:] = ## YOURE CODE HERE\n",
    "    return rho\n",
    "\n",
    "    \n",
    "    \n",
    "#-----------------------------------------------------\n",
    "# CHECK YOUR RESULT\n",
    "\n",
    "np.random.seed(42)\n",
    "\n",
    "Nx=100\n",
    "Ny = 100\n",
    "NL = 9\n",
    "var=0.01\n",
    "rho = (np.ones((Ny,Nx,NL)) + var*np.random.randn(Ny,Nx,NL))\n",
    "\n",
    "X, Y = np.meshgrid(range(Nx), range(Ny))\n",
    "rho[:,:,3] += 1  #* (1+0.2*np.cos(2*np.pi*X/Nx*4))\n",
    "cylinder = (X - Nx/4)**2 + (Y - Ny/2)**2 < (Ny/8)**2\n",
    "\n",
    "\n",
    "#Before reflect\n",
    "rho1 = rho.flatten()\n",
    "print(rho1)\n",
    "print()\n",
    "\n",
    "#After reflect\n",
    "reflect(rho,rho,cylinder)\n",
    "rho2 = rho.flatten()\n",
    "print(rho2)\n",
    "print()\n",
    "\n",
    "#check diff\n",
    "print(rho2-rho1)"
   ]
  },
  {
   "cell_type": "markdown",
   "id": "3094c2d2",
   "metadata": {
    "tags": [
     "learner",
     "md"
    ]
   },
   "source": [
    "<h3>Run the Simulation</h3>\n",
    "\n",
    "Now run the cells below to see the simulation, which uses the functions you have defined above."
   ]
  },
  {
   "cell_type": "code",
   "execution_count": null,
   "id": "187a1048",
   "metadata": {
    "tags": [
     "learner",
     "py",
     "learner_chopped"
    ]
   },
   "outputs": [],
   "source": [
    "import numpy as np\n",
    "\n",
    "def mapPlot(ax,fig, iArr, i, Nx, Ny,boundary, images):\n",
    "    plt.cla()\n",
    "    X, Y = np.meshgrid(range(Nx), range(Ny))\n",
    "    #plt.setp(sp.get_yticklabels(), visible=False)\n",
    "    #plt.setp(sp.get_xticklabels(), visible=False)\n",
    "    ax.pcolormesh(X, Y, 1-boundary, cmap='gray',alpha=0.3);\n",
    "    ax.pcolormesh(X, Y, iArr, cmap=plt.cm.RdBu,clim=(-0.1,0.1));\n",
    "    ax.text(0.6, 0.3,'Time=%d'%i,fontdict={'size': 24, 'color':  'red'})#; plt.axis('tight')    \n",
    "    fig.canvas.draw()       # draw the canvas, cache the renderer\n",
    "    image  = np.frombuffer(fig.canvas.tostring_rgb(), dtype='uint8')\n",
    "    image  = image.reshape(fig.canvas.get_width_height()[::-1] + (3,))\n",
    "    images.append(image)\n",
    "\n",
    "def simulate(ntries = 250, Nx=100, Ny = 100, var=0.01, timestep=1.): \n",
    "    fig, ax = plt.subplots(figsize=(12,7))\n",
    "    NL = 9\n",
    "    viscosity=1.3\n",
    "    timestep=timestep*viscosity\n",
    "    #create density rho with some random \n",
    "    rho = (np.ones((Ny,Nx,NL)) + var*np.random.randn(Ny,Nx,NL))\n",
    "    X, Y = np.meshgrid(range(Nx), range(Ny))\n",
    "    rho[:,:,3] += 1  #* (1+0.2*np.cos(2*np.pi*X/Nx*4))\n",
    "    cylinder = (X - Nx/4)**2 + (Y - Ny/2)**2 < (Ny/8)**2\n",
    "    #rho[cylinder,:]=100./9.\n",
    "    images = []\n",
    "    for i in range(ntries):\n",
    "        #rhoOld = rho.copy()\n",
    "        gRho     = globalRho(rho)\n",
    "        gUx,gUy  = globalV(rho,gRho)\n",
    "        vort     = vorticity(gUx,gUy)\n",
    "        rho = updateRho(rho,gRho,gUx,gUy,timestep)\n",
    "        moveParts(rho)\n",
    "        rho = reflect(rho,rho,cylinder)        \n",
    "        mapPlot(ax,fig,vort,i,Nx,Ny,cylinder,images)\n",
    "        if i % 50 == 0:\n",
    "            print(i)\n",
    "    return images\n",
    "  \n",
    "# Create the output of the simulation, stored in the variable `images`\n",
    "# Comment out plt.close() to view the last image from the simulation, if desired\n",
    "images=simulate()\n",
    "plt.close()\n",
    "\n",
    "# save the output stored in the variable `images`, and create a gif\n",
    "imageio.mimsave('./test.gif', images, fps=10)\n",
    "\n"
   ]
  },
  {
   "cell_type": "code",
   "execution_count": null,
   "id": "f6896b9e",
   "metadata": {
    "tags": [
     "learner",
     "py",
     "learner_chopped"
    ]
   },
   "outputs": [],
   "source": [
    "# VIEW THE GIF\n",
    "# comment out the line and run again to hide\n",
    "\n",
    "Image(open('test.gif','rb').read())"
   ]
  },
  {
   "cell_type": "markdown",
   "id": "49acfc1d",
   "metadata": {
    "id": "7aae0c1b",
    "tags": [
     "learner",
     "md",
     "learner_chopped"
    ]
   },
   "source": [
    "### <span style=\"border:3px; border-style:solid; padding: 0.15em; border-color: #90409C; color: #90409C;\">Problem 4.2.6</span>\n",
    "\n",
    "What happens if we remove the initial density fluctuations? Check all that apply:\n",
    "\n",
    "A) The simulation remains static\\\n",
    "B) The simulation evolves\\\n",
    "C) A flat density distribution will remain flat under the LB equations\\\n",
    "D) A flat density distribution is not the equillibrium density distribution so it becomes nonuniform under the LB equations"
   ]
  },
  {
   "cell_type": "markdown",
   "id": "a2dd3cc3",
   "metadata": {
    "id": "7aae0c1b",
    "tags": [
     "learner",
     "md",
     "learner_chopped"
    ]
   },
   "source": [
    "### <span style=\"border:3px; border-style:solid; padding: 0.15em; border-color: #90409C; color: #90409C;\">Problem 4.2.7</span>\n",
    "\n",
    "What if we increase the initial density ripples by a factor of 10 from the initial value? Change the variable var in the simulation from 0.01 to 0.1. Check all that apply:\n",
    "\n",
    "A) Small lengthscale density fluctuations are visible at early times\\\n",
    "B) At intermediate times, the density profile is smooth with long wavelength density variations\\\n",
    "C) At intermediate times, small lengthscale density fluctuations become scattering centers\\\n",
    "D) At long times the density profile is too turbulent to make out distinct wave patterns\\\n",
    "E) At long times, the initial density fluctuations impact the wave pattern, which is asymmetric because of the small scale fluctuations"
   ]
  },
  {
   "cell_type": "markdown",
   "id": "bd926ddc",
   "metadata": {
    "id": "bd926ddc",
    "tags": [
     "learner",
     "md",
     "learner_chopped"
    ]
   },
   "source": [
    "<a name='section_4_3'></a>\n",
    "<hr style=\"height: 1px;\">\n",
    "\n",
    "## <h2 style=\"border:1px; border-style:solid; padding: 0.25em; color: #FFFFFF; background-color: #90409C\">P4.3 Monte Carlo Simulation</h2>    \n",
    "\n",
    "| [Top](#section_4_0) | [Previous Section](#section_4_2) | [Problems](#problems_4_3) | [Next Section](#section_4_4) |\n"
   ]
  },
  {
   "cell_type": "markdown",
   "id": "66da5748",
   "metadata": {
    "id": "66da5748",
    "tags": [
     "learner",
     "md"
    ]
   },
   "source": [
    "<h3>Overview</h3>\n",
    "\n",
    "Rarefied flows cannot be accurately simulated using fluid (Navier-Stokes) equations. By rarified or ‘dilute’, we mean that the mean free path λ of a molecule is of the same order (or greater) than a representative physical length scale L in the problem. This occurs in low atmospher objects. \n",
    "\n",
    "In this case the gas cannot be considered as a continuum medium and the Boltzmann transport equation must be used to understand the physics of the system. In addition, due to the increased surface-to-volume ratio, the details of the gas interaction with the (solid or liquid) boundaries gain increasing importance as compared to standard fluid dynamics.\n"
   ]
  },
  {
   "cell_type": "markdown",
   "id": "9a7eebf3",
   "metadata": {
    "id": "66da5748",
    "tags": [
     "learner",
     "md"
    ]
   },
   "source": [
    "Consider dilute gas in thermal equilibrium with temperature T₀ between two infinite long plates.\n",
    "\n",
    "The top plate is a relective (specular) wall which will simply bounce back particles that hit it. The bottom plate is a thermal wall with temperature Tw=T₀ that suddenly moves in the y-direction with speed uw at time t=0. The wall is moving tangentially to its normal, the total size of the box is not changing during the simulation. The plates are separated by a distance Lz along the z-direcion. To analyze this gas, we will break up the gas into ‘collision’ cells of height dz. For this prolem, we would like to understand \"the Rayleigh problem\", which is to understand how the dilute gas will react to the sudden movement of the plate."
   ]
  },
  {
   "cell_type": "markdown",
   "id": "3722fd51",
   "metadata": {
    "id": "66da5748",
    "tags": [
     "learner",
     "md"
    ]
   },
   "source": [
    "The DSMC method will treat the dilute gas as a collection of simulation particles, each with:\n",
    "\n",
    "position `rᵢ = [ xᵢ, yᵢ, zᵢ ]` , and\\\n",
    "velocity `vᵢ = [ vxᵢ, vyᵢ, vzᵢ ]`\n",
    "\n",
    "It is important to note that each simulation particle may represent Nₑ physical particles, where Nₑ need not be 1.\n",
    "\n",
    "In a loop over time steps, the particles will undergo three steps, which you will write below:\n",
    "\n",
    "1) Drift\\\n",
    "2) Wall Collisions\\\n",
    "3) Particle-Particle Collisions (via probabilistic Monte Carlo)"
   ]
  },
  {
   "cell_type": "markdown",
   "id": "083c4c82",
   "metadata": {
    "id": "083c4c82",
    "tags": [
     "learner",
     "md",
     "learner_chopped"
    ]
   },
   "source": [
    "<a name='problems_4_3'></a>     \n",
    "\n",
    "| [Top](#section_4_0) | [Restart Section](#section_4_3) | [Next Section](#section_4_4) |\n"
   ]
  },
  {
   "cell_type": "markdown",
   "id": "a6517d93",
   "metadata": {
    "id": "a6517d93",
    "tags": [
     "learner",
     "md",
     "learner_chopped"
    ]
   },
   "source": [
    "### <span style=\"border:3px; border-style:solid; padding: 0.15em; border-color: #90409C; color: #90409C;\">Problem 4.3.1</span>\n",
    "\n",
    "What do you expect to happen to the particle velocities as the plate is moved?\n",
    "\n",
    "A) Expect the velocity fluctuations to increase\\\n",
    "B) Expect the velocity to increase\\\n",
    "C) Expect the velocity to decrease\\\n",
    "D) Expect the velocity fluctuations to decrease"
   ]
  },
  {
   "cell_type": "markdown",
   "id": "77f2ad1f",
   "metadata": {
    "tags": [
     "learner",
     "md"
    ]
   },
   "source": [
    "<h3>Setting up the simulation parameters</h3>\n"
   ]
  },
  {
   "cell_type": "code",
   "execution_count": null,
   "id": "c76e9f4f",
   "metadata": {
    "tags": [
     "learner",
     "py",
     "learner_chopped"
    ]
   },
   "outputs": [],
   "source": [
    "import matplotlib.pyplot as plt\n",
    "import numpy as np\n",
    "from scipy import special\n",
    "# Simulation parameters\n",
    "uw              = 0.2       # lower wall velocity\n",
    "Tw              = 1         # wall temperature\n",
    "n0              = 0.001     # density\n",
    "N               = 50000     # number of sampling particles\n",
    "Nsim            = 3         # number of simulations to run\n",
    "Ncell           = 50        # number of cells\n",
    "Nmft            = 20        # number of mean-free times to run simulation\n",
    "plotRealTime    = False # True      # animate\n",
    "\t\n",
    "Nt              = Nmft*25                    # number of time steps (25 per mean-free time)\n",
    "lambda_mfp      = 1/(np.sqrt(2)*np.pi*n0)    # mean free path ~= 225\n",
    "Lz              = 10*lambda_mfp              # height of box  ~= 2250.8\n",
    "Kn              = lambda_mfp / Lz            # Knudsen number  = 0.1\n",
    "v_mean = (2/np.sqrt(np.pi)) * np.sqrt(2*Tw)  # mean speed\n",
    "tau             = lambda_mfp / v_mean        # mean-free time\n",
    "dt              = Nmft*tau/Nt                # timestep\n",
    "dz              = Lz/Ncell                   # cell height\n",
    "vol             = Lz*dz*dz/Ncell             # cell volume\n",
    "Ne              = n0*Lz*dz*dz/N   # number of real particles each sampling particle represents\n",
    "\t\n",
    "# vector for recording v_y(z=0)\n",
    "vy0 = np.zeros((Nsim,Nt))    \n",
    "\n",
    "# set the random number generator seed\n",
    "np.random.seed(17) \n",
    "\n",
    "# prep figure\n",
    "fig = plt.figure(figsize=(4,4), dpi=80)\n",
    "ax = plt.gca()\n",
    "plt.close()"
   ]
  },
  {
   "cell_type": "markdown",
   "id": "dab920f0",
   "metadata": {
    "tags": [
     "learner",
     "md"
    ]
   },
   "source": [
    "<h3>Step 1: Drift</h3>\n",
    "\n",
    "Next we will write the code for the three steps of the simulation. First the drift step, which involves shifting a particle's position by a distance that is equal to its velocity at the beginning of the time step times the length of the time step.\n",
    "\n",
    "$\\vec{r}_i = \\vec{r}_i+\\Delta t \\vec{v}_i$\n"
   ]
  },
  {
   "cell_type": "markdown",
   "id": "860f701f",
   "metadata": {
    "id": "a6517d93",
    "tags": [
     "learner",
     "md",
     "learner_chopped"
    ]
   },
   "source": [
    "### <span style=\"border:3px; border-style:solid; padding: 0.15em; border-color: #90409C; color: #90409C;\">Problem 4.3.2</span>\n",
    "\n",
    "How do we write a drift function? Write a function that acts on a single component of the position vector and updates the position based on the dispalcement formula: $\\vec{r}_i = \\vec{r}_i+\\Delta t \\vec{v}_i$\n",
    "\n"
   ]
  },
  {
   "cell_type": "code",
   "execution_count": null,
   "id": "6efc3316",
   "metadata": {
    "id": "b7e7516d",
    "tags": [
     "draft",
     "py",
     "learner_chopped"
    ]
   },
   "outputs": [],
   "source": [
    "#>>>PROBLEM: P4.3.2\n",
    "# Use this cell for drafting your solution (if desired),\n",
    "# then enter your solution in the interactive problem online to be graded.\n",
    "\n",
    "\n",
    "def drift(x,vx,dt):\n",
    "  return ## YOUR CODE HERE"
   ]
  },
  {
   "cell_type": "markdown",
   "id": "1302ae8e",
   "metadata": {
    "tags": [
     "learner",
     "md"
    ]
   },
   "source": [
    "<h3>Step 2: Wall Collisions - Top Wall</h3>\n",
    "\n",
    "In the next step, particles collide with the walls. These are the boundary conditions for the problem.\n",
    "\n",
    "The top wall is reflective and a particle hits the top wall if its position becomes z>Lz. In such a case, we must trace the straight-line trajectory of the top wall and bounce it back. The particle position is reflected across top wall, and the normal component of the velocity (vz) reverses sign.\n",
    "\n"
   ]
  },
  {
   "cell_type": "markdown",
   "id": "9f2b1ca0",
   "metadata": {
    "id": "a6517d93",
    "tags": [
     "learner",
     "md",
     "learner_chopped"
    ]
   },
   "source": [
    "### <span style=\"border:3px; border-style:solid; padding: 0.15em; border-color: #90409C; color: #90409C;\">Problem 4.3.3</span>\n",
    "\n",
    "Implement the boundary condition for the reflective top wall in the function below:"
   ]
  },
  {
   "cell_type": "code",
   "execution_count": null,
   "id": "e66a8501",
   "metadata": {
    "id": "b7e7516d",
    "tags": [
     "draft",
     "py",
     "learner_chopped"
    ]
   },
   "outputs": [],
   "source": [
    "#>>>PROBLEM: P4.3.3\n",
    "# Use this cell for drafting your solution (if desired),\n",
    "# then enter your solution in the interactive problem online to be graded.\n",
    "\n",
    "#hit_top = z > Lz\n",
    "\n",
    "def reverse_velocity(vz,hit_top):\n",
    "  vz[hit_top] = ## YOUR CODE HERE\n",
    "  return vz[hit_top]"
   ]
  },
  {
   "cell_type": "markdown",
   "id": "4f2abcf5",
   "metadata": {
    "tags": [
     "learner",
     "md"
    ]
   },
   "source": [
    "<h3>Step 2: Wall Collisions - Bottom Wall</h3>\n",
    "\n",
    "Next, the bottom thermal wall needs to be accounted for. A particle hits the wall if its position becomes $z<0$. In this case, the particle’s velocity needs to be reset to a biased Maxwellian upon impact:\n",
    "\n",
    "The x velocity distribution is Maxwellian with temrpature of the wall $T_{w}$ giving a sampled velocity of $v^{i}_{x}$ for $r^{i}_{G}$ a sampled Gaussian of width 1. \n",
    "\n",
    "$$ {\\rm pdf} (v_x) = C e^{-\\frac{mv^2}{kT_{w}}} \\rightarrow v^{i}_{x} = \\sqrt{\\frac{k T_w}{m}}r^{i}_G\n",
    "$$\n",
    "\n",
    "The y-th velocity now as the added velocity of the moving wall yielding a sampled value of \n",
    "\n",
    "$$ v^{i}_{y} = \\sqrt{\\frac{k T_w}{m}}r^{i\\prime}_G+u_w$$\n",
    "\n",
    "The z-th velocity is a maxwellian gradient along the wall\n",
    "\n",
    "$$ v_Z = \\sqrt{-\\frac{2k T_w}{m} \\ln{r}}$$\n",
    "\n",
    "where r_G and r’_G are numbers drawn from a random Gaussian, and r is drawn randomly from the uniform interval (0,1). $T_w$ is the temperature of the wall and $u_w$ is the velocity of the wall.\n",
    "\n",
    "Following the point of impact, the particle streams off with its new velocity, so its position needs to be corrected to take that into account."
   ]
  },
  {
   "cell_type": "markdown",
   "id": "778bc3ee",
   "metadata": {
    "id": "a6517d93",
    "tags": [
     "learner",
     "md",
     "learner_chopped"
    ]
   },
   "source": [
    "### <span style=\"border:3px; border-style:solid; padding: 0.15em; border-color: #90409C; color: #90409C;\">Problem 4.3.4</span>\n",
    "\n",
    "\n",
    "Implement the boundary condition on the lower wall. Use the code below to change the velocity of the particles after they hit the thermal wall, as described in the three velocity equations:\n",
    "\n",
    "$ v_x = \\sqrt{\\frac{k T_w}{m}}r_G$\n",
    "\n",
    "$ v_y = \\sqrt{\\frac{k T_w}{m}}r'_G+u_w$\n",
    "\n",
    "$ v_Z = \\sqrt{-\\frac{2k T_w}{m} \\ln{r}}$\n",
    "\n",
    "The first equation, `v_x`, is defined for you."
   ]
  },
  {
   "cell_type": "code",
   "execution_count": null,
   "id": "bf5a432e",
   "metadata": {
    "id": "b7e7516d",
    "tags": [
     "draft",
     "py",
     "learner_chopped"
    ]
   },
   "outputs": [],
   "source": [
    "#>>>PROBLEM: P4.3.4\n",
    "# Use this cell for drafting your solution (if desired),\n",
    "# then enter your solution in the interactive problem online to be graded.\n",
    "\n",
    "# collide thermal wall (z=0)\n",
    "# reset velocity to a biased maxwellian upon impact\n",
    "np.random.seed(42)\n",
    "\n",
    "uw              = 0.2       # lower wall velocity\n",
    "Tw              = 1         # wall temperature\n",
    "N               = 50000     # number of sampling particles\n",
    "n0              = 0.001     # density\n",
    "lambda_mfp      = 1/(np.sqrt(2)*np.pi*n0)    # mean free path ~= 225\n",
    "Lz              = 10*lambda_mfp              # height of box  ~= 2250.8\n",
    "vx = np.random.normal(0, Tw, N) \n",
    "vy = np.random.normal(0, Tw, N)\n",
    "vz = np.random.normal(0, Tw, N)\n",
    "z = Lz * np.random.random(N)\n",
    "hit_bot = z < 0\n",
    "Nbot = np.sum( hit_bot )\n",
    "\n",
    "\n",
    "def vx_hit_bot(vx,hit_bot,Tw,Nbot):\n",
    "    vx[hit_bot] = #YOUR CODE HERE\n",
    "    return vx\n",
    "\n",
    "def vy_hit_bot(vy,hit_bot,Tw,Nbot,uw):\n",
    "    vy[hit_bot] = #YOUR CODE HERE\n",
    "    return vy\n",
    "\n",
    "def vz_hit_bot(vz,hit_bot,Tw,Nbot):\n",
    "    vz[hit_bot] = #YOUR CODE HERE\n",
    "    return vz"
   ]
  },
  {
   "cell_type": "markdown",
   "id": "92474057",
   "metadata": {
    "tags": [
     "learner",
     "md"
    ]
   },
   "source": [
    "<h3>Step 3: Particle-Particle Collisions</h3>\n",
    "\n",
    "Finally comes the heart of the DSMC method. In each ‘collision’ cell, a set of representative collisions is processed at each time step. It is important that the cell size dz is smaller than the mean free path λ and that there are enough particles so each cell has at least ~1000. A number of particle pairs $i$ and $j$ within the cell are selected at random and collide with probability that is proportional to their relative velocity:\n",
    "\n",
    "$p_{collide}(i,j) ∝ |\\vec{v}_i - \\vec{v}_j|$\n",
    "\n",
    "The collisions are processed using an acceptance-rejection scheme. For each cell, we randomly select M_cand candidate pairs for collision, calculated as:\n",
    "\n",
    "$M_{cand} = \\frac{N_c^2 \\pi \\sigma^2 v_{r max}N_e\\Delta t }{2 V_c}$\n",
    "\n",
    "where $N_c$ is the number of particles in the cell, $V_c$ is the volume of the cell, and $v_{rmax}$ is an upper limit estimate for the maximum relative velocity between particles. It is expensive to calculate $v_{rmax}$ exactly because it requires a pairwise sum over particles, but the method will be accurate as long as an overestimate is given. However, you do not want to overestimate $v_{rmax}$ by too much because that will also slow the code down as it means more candidate particle pairs have to be processed.\n",
    "\n",
    "For each candidate particle pair, draw a random number r in (0,1) and ‘accept’ the pair for collision if:\n",
    "\n",
    "$\\frac{|\\vec{v}_i-\\vec{v}_j|}{v_{rmax}} > r$\n",
    "\n",
    "The expected number of collisions M_coll out of the M_cand candidate pairs is:\n",
    "\n",
    "$\\frac{M_{coll}}{M_{cand}} = \\frac{<v_r>}{v_{rmax}} $\n",
    "\n",
    "The outcome of the collision is a hard-body collision, in which the particles conserve momentum and energy and scatter at random angles in 3D.\n",
    "\n",
    "The velocity of the two particles change as:\n",
    "\n",
    "$\\vec{v}_i' = \\vec{v}_{cm}+1/2 \\vec{v'_r}$\n",
    "\n",
    "$\\vec{v}_j' = \\vec{v}_{cm}-1/2 \\vec{v'_r}$\n",
    "\n",
    "where $\\vec{v}_{cm} = 1/2 (\\vec{v}_i + \\vec{v}_j)$. These changes in velocity conserve momentum.\n",
    "\n",
    "The randomly chosen directions that the particles scatter into are chosen according to:\n",
    "\n",
    "$\\cos{\\theta} = 2r-1$\n",
    "\n",
    "$\\phi = 2\\pi r'$\n",
    "\n",
    "where $r$ and $r'$ are again random numbers drawn from the interval (0,1). <a href=\"https://mathworld.wolfram.com/SpherePointPicking.html\"> This sampling</a> picks out a random direction on the surface of a sphere in a uniform manner."
   ]
  },
  {
   "cell_type": "markdown",
   "id": "7f13c773",
   "metadata": {
    "id": "a6517d93",
    "tags": [
     "learner",
     "md",
     "learner_chopped"
    ]
   },
   "source": [
    "### <span style=\"border:3px; border-style:solid; padding: 0.15em; border-color: #90409C; color: #90409C;\">Problem 4.3.5</span>\n",
    "\n",
    "What is the condition for accepting a collision? Finish the code below."
   ]
  },
  {
   "cell_type": "code",
   "execution_count": null,
   "id": "a4138724",
   "metadata": {
    "id": "b7e7516d",
    "tags": [
     "draft",
     "py",
     "learner_chopped"
    ]
   },
   "outputs": [],
   "source": [
    "#>>>PROBLEM: P4.3.5\n",
    "# Use this cell for drafting your solution (if desired),\n",
    "# then enter your solution in the interactive problem online to be graded.\n",
    "\n",
    "#Inputs to this function will be the following,\n",
    "#but we do not have to run the function yet,\n",
    "#this will be done in the simulation below\n",
    "#v_rel_max = 6\n",
    "#r_fac = np.random.random() #Note that we randomly sample a different number for each of our candidates\n",
    "#v_rel = nnp.sqrt((vx-vx)**2 + (vy-vy)**2)\n",
    "    \n",
    "def check_acceptance(v_rel_max,r_fac,v_rel):\n",
    "    accept_condition = #YOUR CODE HERE\n",
    "    return accept_condition"
   ]
  },
  {
   "cell_type": "markdown",
   "id": "8c596351",
   "metadata": {
    "id": "a6517d93",
    "tags": [
     "learner",
     "md",
     "learner_chopped"
    ]
   },
   "source": [
    "### <span style=\"border:3px; border-style:solid; padding: 0.15em; border-color: #90409C; color: #90409C;\">Problem 4.3.6</span>\n",
    "\n",
    "Finish the code below for implementing the random scattering process."
   ]
  },
  {
   "cell_type": "code",
   "execution_count": null,
   "id": "fe76b5e4",
   "metadata": {
    "id": "b7e7516d",
    "tags": [
     "draft",
     "py",
     "learner_chopped"
    ]
   },
   "outputs": [],
   "source": [
    "#>>>PROBLEM: P4.3.6\n",
    "# Use this cell for drafting your solution (if desired),\n",
    "# then enter your solution in the interactive problem online to be graded.\n",
    "\n",
    "#takes input r, where r is a random number drawn from the interval (0,1)\n",
    "\n",
    "def cos_theta_rand(r):\n",
    "    return #YOUR CODE HERE\n",
    "\n",
    "def sin_theta_rand(cos_theta_val):\n",
    "    return #YOUR CODE HERE\n",
    "\n",
    "def phi_rand(r):\n",
    "    return #YOUR CODE HERE\n"
   ]
  },
  {
   "cell_type": "markdown",
   "id": "e7b6168b",
   "metadata": {
    "tags": [
     "learner",
     "md"
    ]
   },
   "source": [
    "<h3>Run the Simulation</h3>\n",
    "\n",
    "The code in the following cell combines the components that were defined/solved in the preceding problems. Run the simulation below (takes a few minutes to complete):"
   ]
  },
  {
   "cell_type": "code",
   "execution_count": null,
   "id": "124815d8",
   "metadata": {
    "tags": [
     "learner",
     "py",
     "learner_chopped"
    ]
   },
   "outputs": [],
   "source": [
    "images=[]\n",
    "fig, ax = plt.subplots(figsize=(12,7))\n",
    "###Full working simulation\n",
    "\n",
    "## simulation for loop\n",
    "for sim in range(Nsim):\n",
    "\t# print('Simulation',sim+1,'of',Nsim)\n",
    "\t# Initialize particle positions to be random\n",
    "  x = dz * np.random.random(N)\n",
    "  y = dz * np.random.random(N)\n",
    "  z = Lz * np.random.random(N)\n",
    "\n",
    "  # Maxwellian at temperature Tw\n",
    "  vx = np.random.normal(0, Tw, N) \n",
    "  vy = np.random.normal(0, Tw, N) \n",
    "  vz = np.random.normal(0, Tw, N) \n",
    "\n",
    "  # Evolve\n",
    "  for i in range(Nt):\n",
    "\t\t# print('  timestep',i,'of',Nt,'  (sim',sim+1,'/',Nsim,')')\n",
    "\n",
    "\t# drift particles in 3D\n",
    "    x = drift(x,vx,dt)\n",
    "    y = drift(y,vy,dt)\n",
    "    z = drift(z,vz,dt)\n",
    "\t\t\n",
    "\t\t\n",
    "\t# collide specular wall (z=Lz)\n",
    "\t# trace the straight-line trajectory to the top wall, bounce it back\n",
    "    hit_top = z > Lz\n",
    "    dt_ac = (z[hit_top]-Lz) / vz[hit_top] # time after collision\n",
    "    vz[hit_top] = reverse_velocity(vz,hit_top)  # reverse normal component of velocity\n",
    "    z[hit_top]  = Lz + dt_ac * vz[hit_top]\n",
    "\n",
    "\n",
    "    # collide thermal wall (z=0)\n",
    "    # reset velocity to a biased maxwellian upon impact\n",
    "    hit_bot = z < 0\n",
    "    \n",
    "    #move x and y to exactly when it hits the wall\n",
    "    dt_ac = z[hit_bot] / vz[hit_bot]\n",
    "    x[hit_bot] -= dt_ac * vx[hit_bot]\n",
    "    y[hit_bot] -= dt_ac * vy[hit_bot]\n",
    "    Nbot = np.sum( hit_bot )\n",
    "\n",
    "    #sample velocties from particles at this wall\n",
    "    vx = vx_hit_bot(vx,hit_bot,Tw,Nbot)\n",
    "    vy = vy_hit_bot(vy,hit_bot,Tw,Nbot,uw)\n",
    "    vz = vz_hit_bot(vz,hit_bot,Tw,Nbot)\n",
    "\n",
    "    x[hit_bot] += dt_ac * vx[hit_bot]\n",
    "    y[hit_bot] += dt_ac * vy[hit_bot]\n",
    "    z[hit_bot]  = dt_ac * vz[hit_bot]\n",
    "\n",
    "  \t# Video Game geomtry the length in x and y is dz\n",
    "    # Once you get to the edge, you wrap around to the other side\n",
    "    # Also known as periodic Bondary conditions\n",
    "    x = np.mod(x,dz)\n",
    "    y = np.mod(y,dz)\n",
    "\n",
    "    # collide particles using acceptance--rejection scheme\n",
    "    v_rel_max = 6 # (over-)estimate upper limit to relative vel.\n",
    "    N_collisions = 0\n",
    "    # loop over cells\n",
    "    for j in range(Ncell):\n",
    "      #cells are defined by the z position\n",
    "      in_cell = (j*dz < z) & (z < (j+1)*dz)\n",
    "      Nc = np.sum( in_cell )\n",
    "      x_c = x[in_cell]\n",
    "      y_c = y[in_cell]\n",
    "      z_c = z[in_cell]\n",
    "      vx_c = vx[in_cell]\n",
    "      vy_c = vy[in_cell]\n",
    "      vz_c = vz[in_cell]\n",
    "\n",
    "      #Compute the expcted number of collisions\n",
    "      M_cand = np.ceil(Nc**2 * np.pi * v_rel_max * Ne * dt/(2*vol)).astype(int)\n",
    "\n",
    "      # propose collision between i and j\n",
    "      for k in range(M_cand):\n",
    "        \n",
    "        r_fac = np.random.random()\n",
    "        i_prop = np.random.randint(Nc)\n",
    "        j_prop = np.random.randint(Nc)\n",
    "\n",
    "        v_rel = np.sqrt((vx_c[i_prop]-vx_c[j_prop])**2 + (vy_c[i_prop]-vy_c[j_prop])**2 + (vz_c[i_prop]-vz_c[j_prop])**2 )\n",
    "\n",
    "        # accept collision with appropriate probability\n",
    "        # #WRITE YOUR ACCEPTANCE CONDITION HERE\n",
    "        if check_acceptance(v_rel_max,r_fac,v_rel) == True:\n",
    "\n",
    "          # process collision -- hard sphere (note lecture 18 also does this)\n",
    "          vx_cm = 0.5 * (vx_c[i_prop] + vx_c[j_prop])\n",
    "          vy_cm = 0.5 * (vy_c[i_prop] + vy_c[j_prop])\n",
    "          vz_cm = 0.5 * (vz_c[i_prop] + vz_c[j_prop])\n",
    "                      \n",
    "          cos_theta = cos_theta_rand(np.random.random())\n",
    "          sin_theta = sin_theta_rand(cos_theta)\n",
    "          phi = phi_rand(np.random.random())\n",
    "\n",
    "          vx_p = v_rel * sin_theta * np.cos(phi)\n",
    "          vy_p = v_rel * sin_theta * np.sin(phi)\n",
    "          vz_p = v_rel * cos_theta\n",
    "          vx_c[i_prop] = vx_cm + 0.5*vx_p\n",
    "          vy_c[i_prop] = vy_cm + 0.5*vy_p\n",
    "          vz_c[i_prop] = vz_cm + 0.5*vz_p\n",
    "          vx_c[j_prop] = vx_cm - 0.5*vx_p\n",
    "          vy_c[j_prop] = vy_cm - 0.5*vy_p\n",
    "          vz_c[j_prop] = vz_cm - 0.5*vz_p\n",
    "\n",
    "          N_collisions += 1\n",
    "\n",
    "      #copy updates from cell\n",
    "      x[in_cell]  = x_c \n",
    "      y[in_cell]  = y_c \n",
    "      z[in_cell]  = z_c\n",
    "      vx[in_cell] = vx_c \n",
    "      vy[in_cell] = vy_c \n",
    "      vz[in_cell] = vz_c\n",
    "\n",
    "\t\t# print('    ',N_collisions,' collisions')\n",
    "\n",
    "\t# Video Game geomtry the length in x and y is dz\n",
    "    # Once you get to the edge, you wrap around to the other side\n",
    "    x = np.mod(x,dz)\n",
    "    y = np.mod(y,dz)\n",
    "\n",
    "\t# record v_y(z=0)\n",
    "    vy0[sim,i] = np.mean( vy[ (0 < z) & (z < dz) ] )\n",
    "\t\t\n",
    "\t# measure vy along box\n",
    "    bin_c = dz * np.linspace(0.5,Ncell-0.5,Ncell)\n",
    "    vy_profile = np.zeros((Ncell,1))\n",
    "    for j in range(Ncell):\n",
    "      in_cell = ( j*dz < z ) & ( z < (j+1)*dz )\n",
    "      vy_profile[j] = np.mean(vy[in_cell])\n",
    "\n",
    "    # plot phase-space slice\n",
    "    if plotRealTime:\n",
    "      plt.cla()\n",
    "      ax.scatter(z[0::20],vy[0::20], color='blue', s=0.1)\n",
    "      ax.plot(bin_c,vy_profile)\n",
    "      ax.set(xlim=(0, Lz), ylim=(-3,3))\n",
    "      ax.xlabel(r'$z$')\n",
    "      ax.ylabel(r'$v_y$')\n",
    "      fig.canvas.draw()       # draw the canvas, cache the renderer\n",
    "      image = np.frombuffer(fig.canvas.tostring_rgb(), dtype='uint8')\n",
    "      image  = image.reshape(fig.canvas.get_width_height()[::-1] + (3,))\n",
    "      images.append(image)\n",
    "        \n",
    "#imageio.mimsave('./sim.gif', images, fps=10)\n",
    "#Image(open('sim.gif','rb').read())"
   ]
  },
  {
   "cell_type": "code",
   "execution_count": null,
   "id": "ea1db085",
   "metadata": {
    "tags": [
     "learner",
     "py",
     "learner_chopped"
    ]
   },
   "outputs": [],
   "source": [
    "# Plot results: compare v_y(z=0) to BGK theory\n",
    "fig2 = plt.figure(figsize=(6,4), dpi=80)\n",
    "ax2  = plt.gca()\n",
    "tt = dt * np.linspace(1, Nt, num=Nt) / tau\n",
    "bgk = np.zeros(tt.shape)\n",
    "for i in range(Nt):\n",
    "  xx = np.linspace(tt[i]/10000, tt[i], num=10000)\n",
    "  bgk[i] = 0.5*(1 + np.trapz(np.exp(-xx) / xx * special.iv(1,xx), x=xx))\n",
    "plt.plot(tt*2.5, bgk, label='BGK theory', color='red')\n",
    "plt.plot(tt, np.mean(vy0,axis=0).reshape((Nt,1))/uw, label='DSMC', color='blue')\n",
    "plt.xlabel(r'$t/\\tau$')\n",
    "plt.ylabel(r'$u_y(z=0)/u_w$')\n",
    "ax2.set(xlim=(0, Nmft), ylim=(0.5, 1.1))\n",
    "ax2.legend(loc='upper left')\n",
    "plt.show()"
   ]
  },
  {
   "cell_type": "markdown",
   "id": "7ffdde62",
   "metadata": {
    "id": "a6517d93",
    "tags": [
     "learner",
     "md",
     "learner_chopped"
    ]
   },
   "source": [
    "### <span style=\"border:3px; border-style:solid; padding: 0.15em; border-color: #90409C; color: #90409C;\">Problem 4.3.7</span>\n",
    "\n",
    "What sets the timescale over which the particle velocity increases?\n",
    "\n",
    "A) simulation time step\\\n",
    "B) collision timescale\n",
    "\n"
   ]
  },
  {
   "cell_type": "markdown",
   "id": "3fbb2634",
   "metadata": {
    "id": "bd926ddc",
    "tags": [
     "learner",
     "md",
     "learner_chopped"
    ]
   },
   "source": [
    "<a name='section_4_4'></a>\n",
    "<hr style=\"height: 1px;\">\n",
    "\n",
    "## <h2 style=\"border:1px; border-style:solid; padding: 0.25em; color: #FFFFFF; background-color: #90409C\">P4.4 Simulating a partial differential equation: the time dependent Ginzburg Landau (TDGL) equation</h2>    \n",
    "\n",
    "| [Top](#section_4_0) | [Previous Section](#section_4_3) | [Problems](#problems_4_4) | [Next Section](#section_4_5) |"
   ]
  },
  {
   "cell_type": "markdown",
   "id": "4dacb726",
   "metadata": {
    "id": "b1264cd6",
    "tags": [
     "learner",
     "md"
    ]
   },
   "source": [
    "<h3>Overview</h3>\n",
    "\n",
    "The Ising model is a mathematical model used to study the behavior of a collection of interacting particles, often in the context of magnetism. The model was first introduced by Ernst Ising in 1925 as a simplified model of ferromagnetism.\n",
    "\n",
    "The Ising model consists of a lattice of discrete spins, which can be in one of two states (usually represented as +1 or -1). The spins interact with their nearest neighbors, with each interaction being described by an energy term. The total energy of the system is given by the sum of the interaction energies of all pairs of neighboring spins.\n",
    "\n",
    "The Ising model is widely used in statistical physics to study phase transitions, critical phenomena, and other phenomena related to the behavior of interacting systems. It has also found applications in a variety of other fields, including computer science, economics, and social network analysis.\n",
    "\n",
    "\n",
    "The Ising Hamiltonian can be written as,\n",
    "\n",
    "$H=−J\\sum\\limits_{⟨ij⟩} S_iS_j$\n",
    " \n",
    "where the spins  $Si$ can take values  ±1, $⟨ij⟩$ implies nearest-neighbor interaction only, and J>0 is the strength of exchange interaction.\n",
    "\n",
    "The system undergoes a 2nd order phase transition at the critical temperature  $Tc$. For temperatures less than $Tc$, the system magnetizes, and the state is called the ferromagnetic or the ordered state. This amounts to a globally ordered state due to the presence of local interactions between the spins. For temperatures greater than  $Tc$, the system is in the disordered or the paramagnetic state. In this case, there are no long-range correlations between the spins.\n",
    "\n",
    "In this problem, we will study a kinetic Ising model, which is a variant of the Ising model that takes into account the dynamics of spin interactions over time. In contrast to the static Ising model, where the spins are assumed to be in thermal equilibrium, a kinetic Ising model allows the spins to evolve dynamically according to a set of rules that govern their interactions.\n",
    "\n",
    "In particular, we will study the time dependent Ginzburg-Landau (TDGL)equation, which is a partial differential equation that describes the time evolution of the order parameter. In general, an order parameter characterizes the degree of some specified type of ordering in the system. In the context of the Ising model, the order parameter is typically taken to be the average spin magnetization, denoted here by $\\phi$, which is a measure of the degree to which the spins in the lattice are aligned."
   ]
  },
  {
   "cell_type": "markdown",
   "id": "6299fe3b",
   "metadata": {
    "id": "b1264cd6",
    "tags": [
     "learner",
     "md"
    ]
   },
   "source": [
    "The TDGL has the form\n",
    "\n",
    "$\\frac{\\partial \\phi}{\\partial t} = a \\phi  + b\\phi^3 + k \\nabla^2 \\phi $\n",
    "\n",
    "where $a$ is a damping coefficient, $b$ is the nonlinearity coefficient, and $k$ is a diffusion coefficient."
   ]
  },
  {
   "cell_type": "code",
   "execution_count": null,
   "id": "2db28685",
   "metadata": {
    "tags": [
     "learner",
     "py",
     "learner_chopped"
    ]
   },
   "outputs": [],
   "source": [
    "%matplotlib inline\n",
    "import numpy as np\n",
    "from __future__ import division\n",
    "from scipy.sparse import spdiags,linalg,eye\n",
    "import matplotlib.pyplot as plt\n",
    "\n",
    "## simulation parameters\n",
    "a,b, k = 1.0 , 1.0, 100.0\n",
    "dh, dt = 1.0, 1e-3\n",
    "Ng, Tf = 256, 10001"
   ]
  },
  {
   "cell_type": "markdown",
   "id": "cb91965a",
   "metadata": {
    "id": "083c4c82",
    "tags": [
     "learner",
     "md",
     "learner_chopped"
    ]
   },
   "source": [
    "<a name='problems_4_4'></a>     \n",
    "\n",
    "| [Top](#section_4_0) | [Restart Section](#section_4_4) | [Next Section](#section_4_5) |\n"
   ]
  },
  {
   "cell_type": "markdown",
   "id": "2cc621cc",
   "metadata": {
    "id": "a6517d93",
    "tags": [
     "learner",
     "md",
     "learner_chopped"
    ]
   },
   "source": [
    "### <span style=\"border:3px; border-style:solid; padding: 0.15em; border-color: #90409C; color: #90409C;\">Problem 4.4.1</span>\n",
    "\n",
    "Complete the function for $\\mu = a \\phi  + b\\phi^3$.\n",
    "\n"
   ]
  },
  {
   "cell_type": "code",
   "execution_count": null,
   "id": "6a27bbef",
   "metadata": {
    "tags": [
     "draft",
     "py",
     "learner_chopped"
    ]
   },
   "outputs": [],
   "source": [
    "#>>>PROBLEM: P4.4.1\n",
    "# Use this cell for drafting your solution (if desired),\n",
    "# then enter your solution in the interactive problem online to be graded.\n",
    "\n",
    "\n",
    "def mu(phi,a,b):\n",
    "  return ## YOUR CODE HERE"
   ]
  },
  {
   "cell_type": "markdown",
   "id": "9a68379b",
   "metadata": {
    "tags": [
     "learner",
     "md"
    ]
   },
   "source": [
    "<h3>Run the Simulation</h3>\n",
    "\n",
    "Next let's write a discretization of the diffusion term. We'll use the 5-point Laplacian approximation:\n",
    "\n",
    "$$\\nabla^2 \\phi(x,y) \\approx \\frac{\\phi_{i-1,j} - 2\\phi_{ij}+\\phi_{i+1,j}}{\\delta x^{2}} + \\frac{\\phi_{i,j-1} - 2\\phi_{ij}+\\phi_{i,j+1}}{\\delta y^{2}}$$\n",
    " \n",
    " \n",
    "For simplicity we'll assume $\\delta x = \\delta y = h$. \n",
    "\n",
    "The way we compute these terms is using a clever trick. We note we can write $phi(x,y)=phi_{i,j}$. The strategy then is to shift $\\phi$ up and down by $1$ in the i-th index, and likewise in the j-th index. As a consequence,we can write \n",
    "\n",
    "$$\n",
    "\\nabla^2 \\phi(x,y) \\approx \\frac{\\phi_{i-1,j} - 2 \\phi_{ij}+\\phi_{i+1,j}+\\phi_{i,j-1} - 2\\phi_{ij}+\\phi_{i,j+1}}{h^{2}} \\\\\n",
    "\\nabla^2 \\phi(x,y) \\approx \\frac{- 4\\phi_{ij}+\\phi_{i-1,j}+\\phi_{i+1,j}+\\phi_{i,j-1}+\\phi_{i,j+1}}{h^{2}} \n",
    "$$ \n",
    "\n",
    "Now we collapse $\\phi_{i,j}$ to a vector $\\phi_{i+Nj}$. In light of this, lets do a quick problem on computing the laplacian. "
   ]
  },
  {
   "cell_type": "markdown",
   "id": "19871860",
   "metadata": {
    "id": "a6517d93",
    "tags": [
     "learner",
     "md",
     "learner_chopped"
    ]
   },
   "source": [
    "### <span style=\"border:3px; border-style:solid; padding: 0.15em; border-color: #90409C; color: #90409C;\">Problem 4.4.2</span>\n",
    "\n",
    "We will now consider how to take a 4x4 matrix and flatten it to a vector $m_{ij}\\rightarrow v_{i+Nj}$. In this problem, we will use the `spdiags` to command to add adjacent bins in a matrix $m_{ij}$. First try running the code cell immediately below, to see how this command works for a simple 4X1 vector.\n",
    "\n",
    "Next, for the 4x4 matrix defined in the second cell below, compute `output`$ = \\phi_{i,j} + \\phi_{i+1,j} + \\phi_{i-1,j}$ by filling in the code. Print the output as a list of numbers, and enter this list in your answer checker."
   ]
  },
  {
   "cell_type": "code",
   "execution_count": null,
   "id": "49c5abe2",
   "metadata": {
    "tags": [
     "py",
     "learner_chopped",
     "learner"
    ]
   },
   "outputs": [],
   "source": [
    "#>>>RUN\n",
    "# Use this cell for drafting your solution (if desired),\n",
    "# then enter your solution in the interactive problem online to be graded.\n",
    "\n",
    "#First lets do a simple example 4x1 vector\n",
    "N=4\n",
    "data=np.array([1,2,3,4])\n",
    "unitvec=np.ones(N)\n",
    "\n",
    "test1=spdiags([unitvec],[1],4,4)\n",
    "print(\"Off diagonal shifted up 1\\n\", test1.toarray())\n",
    "print()\n",
    "\n",
    "testM1=spdiags([unitvec],[-1],4,4)\n",
    "print(\"Off diagonal shifted down 1\\n\", testM1.toarray())\n",
    "print()\n",
    "\n",
    "shifteddata1 =data*test1\n",
    "print(\"Shifted Data up 1:\",shifteddata1)\n",
    "print()\n",
    "\n",
    "shifteddataM1=data*testM1\n",
    "print(\"Shifted Data down 1:\",shifteddataM1)\n",
    "print()\n",
    "\n",
    "#now compute phi_i + phi_{i+1} + phi_{i-1}\n",
    "output = data + shifteddata1 + shifteddataM1\n",
    "print(\"phi_i + phi_{i+1} + phi_{i-1}\",output)\n",
    "#note that the 2nd element is 2+3(i+1)+1(i-1)=6 the first is just 1+2(i+1) and no i-1"
   ]
  },
  {
   "cell_type": "code",
   "execution_count": null,
   "id": "be03237a",
   "metadata": {
    "tags": [
     "draft",
     "py",
     "learner_chopped"
    ]
   },
   "outputs": [],
   "source": [
    "#>>>PROBLEM: P4.4.2\n",
    "# Use this cell for drafting your solution (if desired),\n",
    "# then enter your solution in the interactive problem online to be graded.\n",
    "\n",
    "###NOW LETS DO THE FULL PROBLEM\n",
    "N=4.       #phi 1,1 2,1 3,1 4,1 1,2 ....\n",
    "data = np.array([[1, 2, 3, 4], [5, 6, 7, 8], [9, 10, 11, 12],[13, 14, 15, 16]])\n",
    "data_flat = data.flatten()\n",
    "print(\"Input vector:\",data_flat)\n",
    "print()\n",
    "\n",
    "#now what we want are 1s on the off diagaonal for phi_{i+1} excluding when j changes\n",
    "e2=([1]*(N-1)+[0])*N\n",
    "print(\"i+1 (3 1s then a 0 when j changes)\",e2)\n",
    "print()\n",
    "test1=spdiags([e2],[1],16,16)\n",
    "print(\"Off diagonal shifted up 1 for ith element\\n\",test1.toarray())\n",
    "print()\n",
    "\n",
    "e3= pass #YOUR CODE HERE for off diagonal for -1 (note j changing is different)\n",
    "testM1=spdiags([e3],[-1],16,16) #comput matrix\n",
    "print(\"Off diagonal shifted down 1 for ith element\\n\",testM1.toarray())\n",
    "print()\n",
    "\n",
    "output = pass #YOUR CODE HERE\n",
    "print(\"output:\",list(output))"
   ]
  },
  {
   "cell_type": "markdown",
   "id": "2af25bec",
   "metadata": {
    "tags": [
     "learner",
     "md"
    ]
   },
   "source": [
    "Now that we understand the code we can write the full 5 point Laplacian code in very compact form below. This gives us a matrix that we can multiply $\\phi_{ij}$ to yield the local Laplacian! \n",
    "\n",
    "As a result, our integration step is just \n",
    "\n",
    "$\\phi_{ij} \\rightarrow \\phi_{ij} - \\Delta t \\mu(\\phi_{ij}) - k\\nabla^2\\phi_{ij}$\n",
    "\n",
    "Where our last term is just a multplication with the laplacian matrix $L$ "
   ]
  },
  {
   "cell_type": "code",
   "execution_count": null,
   "id": "93ab3952",
   "metadata": {
    "tags": [
     "learner",
     "py",
     "learner_chopped"
    ]
   },
   "outputs": [],
   "source": [
    "# Simulating the TDLG equation\n",
    "# This example uses the 5-point Laplacian discretization from \n",
    "# [here](https://github.com/ketch/finite-difference-course)\n",
    "\n",
    "def laplacian(Ng):\n",
    "    '''Construct a sparse matrix that applies the 5-point Laplacian discretization'''\n",
    "    e=np.ones(Ng**2)\n",
    "    e2=([1]*(Ng-1)+[0])*Ng\n",
    "    e3=([0]+[1]*(Ng-1))*Ng\n",
    "    h=dh\n",
    "    A=spdiags([-4*e,e2,e3,e,e],[0,-1,1,-Ng,Ng],Ng**2,Ng**2)\n",
    "    A/=h**2\n",
    "    return A\n",
    "\n",
    "def configPlot(x, y, phi,f, n_, i):\n",
    "    U= phi.reshape((Ng, Ng))\n",
    "    sp =  f.add_subplot(3, 3, n_ )  \n",
    "    plt.setp(sp.get_yticklabels(), visible=False)\n",
    "    plt.setp(sp.get_xticklabels(), visible=False)\n",
    "    plt.pcolormesh(x,y,U, cmap=plt.cm.RdBu);\n",
    "    plt.title('Time=%d'%i)\n",
    "plt.show()\n",
    "\n",
    "def integrate(L, x, y, phi, a, b, k):\n",
    "    '''  simulates the equation and plots it at different instants '''\n",
    "    \n",
    "    f = plt.figure(figsize=(15, 15), dpi=80);    \n",
    "    for i in range(Tf):          \n",
    "        phi = phi - dt*(mu(phi,a,b) - k*L.dot(phi))\n",
    "            \n",
    "        if (i==0):      configPlot(x, y, phi, f, 1, i);\n",
    "        if (i==1):      configPlot(x, y, phi, f, 2, i);\n",
    "        if (i==10):     configPlot(x, y, phi, f, 3, i);\n",
    "        if (i==100):    configPlot(x, y, phi, f, 4, i);\n",
    "        if (i==1000):   configPlot(x, y, phi, f, 5, i);\n",
    "        if (i==10000):  configPlot(x, y, phi, f, 6, i);\n",
    "        if (i==100000): configPlot(x, y, phi, f, 7, i);"
   ]
  },
  {
   "cell_type": "markdown",
   "id": "9741e6a8",
   "metadata": {
    "tags": [
     "learner",
     "md"
    ]
   },
   "source": [
    "Now let's go aheand make a grid from -1 to 1 that is $N_{g}\\times N_{g}$. Then we just run our integration a few 100k time steps. "
   ]
  },
  {
   "cell_type": "code",
   "execution_count": null,
   "id": "3493b050",
   "metadata": {
    "tags": [
     "learner",
     "py",
     "learner_chopped"
    ]
   },
   "outputs": [],
   "source": [
    "# rm = TDGL()   # instantiate the class\n",
    "\n",
    "# generate the grid and initialise the field\n",
    "x = np.linspace(-1,1,Ng)\n",
    "y = np.linspace(-1,1,Ng)\n",
    "X, Y = np.meshgrid(x, y)\n",
    "\n",
    "phi=np.random.randn(Ng*Ng, 1);  # Initial data\n",
    "L = laplacian(Ng)         # construct the laplacian\n",
    "integrate(L, x, y, phi, a, b, k)    # simulate\n",
    "\n",
    "#simulation completed!!"
   ]
  },
  {
   "cell_type": "markdown",
   "id": "d638ffb1",
   "metadata": {
    "id": "a6517d93",
    "tags": [
     "learner",
     "md",
     "learner_chopped"
    ]
   },
   "source": [
    "### <span style=\"border:3px; border-style:solid; padding: 0.15em; border-color: #90409C; color: #90409C;\">Problem 4.4.3</span>\n",
    "\n",
    "What happens over the long time range?\n",
    "\n",
    "A) Simulation continues to have random high and low values\\\n",
    "B) Simulation converges to a single global structure of high and low regions \\\n",
    "C) Simulation becomes a patchy region of high and low areas\\\n",
    "D) Simulation is very dependent on the initial $\\phi$ conditions"
   ]
  },
  {
   "cell_type": "markdown",
   "id": "0a661f17",
   "metadata": {
    "id": "a6517d93",
    "tags": [
     "learner",
     "md",
     "learner_chopped"
    ]
   },
   "source": [
    "### <span style=\"border:3px; border-style:solid; padding: 0.15em; border-color: #90409C; color: #90409C;\">Problem 4.4.4</span>\n",
    "\n",
    "What happens to the simulation when $k=0$? Edit the code and run the simulation.\n",
    "\n",
    "A) Collective behavior still emerges and is independent of initial conditions\\\n",
    "B) Collectetive heavior emerges only with the right initial conditions\n",
    "C) Simulation remains rnadom scattered sample"
   ]
  },
  {
   "cell_type": "markdown",
   "id": "91bbb149",
   "metadata": {
    "id": "a6517d93",
    "tags": [
     "learner",
     "md",
     "learner_chopped"
    ]
   },
   "source": [
    "### <span style=\"border:3px; border-style:solid; padding: 0.15em; border-color: #90409C; color: #90409C;\">Problem 4.4.5</span>\n",
    "\n",
    "What happens when we set a to 1 b to 1 and k to 10? Edit the code and run the simulation.\n",
    "\n",
    "A) Same behavior as b=1 \\\n",
    "B) Large Scale structure emerges faster\\\n",
    "C) Large Scale structure emerges slower\\\n",
    "D) No large scale structure is present"
   ]
  },
  {
   "cell_type": "markdown",
   "id": "783bca83",
   "metadata": {
    "id": "bd926ddc",
    "tags": [
     "learner",
     "md",
     "learner_chopped"
    ]
   },
   "source": [
    "<a name='section_4_5'></a>\n",
    "<hr style=\"height: 1px;\">\n",
    "\n",
    "## <h2 style=\"border:1px; border-style:solid; padding: 0.25em; color: #FFFFFF; background-color: #90409C\">P4.5 Solving differential equations with neural nets (no problems)</h2>    \n",
    "\n",
    "| [Top](#section_4_0) | [Previous Section](#section_4_4) | [Problems](#problems_4_5) |"
   ]
  },
  {
   "cell_type": "code",
   "execution_count": null,
   "id": "7eefc069",
   "metadata": {
    "tags": [
     "learner",
     "py"
    ]
   },
   "outputs": [],
   "source": [
    "import torch\n",
    "import torch.nn as nn\n",
    "import matplotlib.pyplot as plt\n",
    "import numpy as np\n",
    "\n",
    "## check if GPU is available and use it; otherwise use CPU\n",
    "device = torch.device(\"cuda:0\" if torch.cuda.is_available() else \"cpu\")"
   ]
  },
  {
   "cell_type": "markdown",
   "id": "38271022",
   "metadata": {
    "tags": [
     "learner",
     "md"
    ]
   },
   "source": [
    "Neural net from original paper suggests one hidden layer with 50 neurons"
   ]
  },
  {
   "cell_type": "code",
   "execution_count": null,
   "id": "fd5fe97e",
   "metadata": {
    "tags": [
     "learner",
     "py"
    ]
   },
   "outputs": [],
   "source": [
    "N = nn.Sequential(nn.Linear(1, 50), nn.Sigmoid(), nn.Linear(50,1, bias=False))"
   ]
  },
  {
   "cell_type": "code",
   "execution_count": null,
   "id": "9f8f8b60",
   "metadata": {
    "tags": [
     "learner",
     "py"
    ]
   },
   "outputs": [],
   "source": [
    "A=0 #I.c.\n",
    "Psi_t = lambda x: A + x * N(x) ##trial solution"
   ]
  },
  {
   "cell_type": "markdown",
   "id": "b53cfeae",
   "metadata": {
    "tags": [
     "learner",
     "md"
    ]
   },
   "source": [
    "The differential equation we want to solve is\n",
    "\n",
    "$\\frac{d}{dx}\\Psi + \\frac{1}{5}\\Psi = e^{-x/5}\\cos{x}$"
   ]
  },
  {
   "cell_type": "code",
   "execution_count": null,
   "id": "adffabb3",
   "metadata": {
    "tags": [
     "learner",
     "py"
    ]
   },
   "outputs": [],
   "source": [
    "# transform equation into a function of psi and x\n",
    "f = lambda x, Psi: torch.exp(-x / 5.0) * torch.cos(x) - Psi / 5.0"
   ]
  },
  {
   "cell_type": "code",
   "execution_count": null,
   "id": "afc919a5",
   "metadata": {
    "tags": [
     "learner",
     "py"
    ]
   },
   "outputs": [],
   "source": [
    "def loss(x):\n",
    "\n",
    "    x.requires_grad = True\n",
    "    outputs = Psi_t(x)\n",
    "    Psi_t_x = torch.autograd.grad(outputs, x, grad_outputs=torch.ones_like(outputs),\n",
    "                        create_graph=True)[0]\n",
    "\n",
    "    return  torch.mean( ( Psi_t_x - f(x, outputs) )  ** 2)"
   ]
  },
  {
   "cell_type": "code",
   "execution_count": null,
   "id": "4f33b671",
   "metadata": {
    "tags": [
     "learner",
     "py"
    ]
   },
   "outputs": [],
   "source": [
    "optimizer = torch.optim.LBFGS(N.parameters())\n",
    "x = torch.Tensor(np.linspace(0, 2, 100)[:, None])\n",
    "\n",
    "def closure():\n",
    "\n",
    "    optimizer.zero_grad()\n",
    "    l = loss(x)\n",
    "    l.backward()\n",
    "    \n",
    "    return l\n",
    "\n",
    "for i in range(10):\n",
    "    optimizer.step(closure)"
   ]
  },
  {
   "cell_type": "code",
   "execution_count": null,
   "id": "cd0d50aa",
   "metadata": {
    "tags": [
     "learner",
     "py"
    ]
   },
   "outputs": [],
   "source": [
    "xx = np.linspace(0, 2, 100)[:, None]\n",
    "\n",
    "with torch.no_grad():\n",
    "    yy = Psi_t(torch.Tensor(xx)).numpy()\n",
    "yt = np.exp(-xx / 5.0) * np.sin(xx)\n",
    "\n",
    "fig, ax = plt.subplots(dpi=100)\n",
    "ax.plot(xx, yt, label='True')\n",
    "ax.plot(xx, yy, '--', label='Neural network approximation')\n",
    "ax.set_xlabel('$x$')\n",
    "ax.set_ylabel('$Psi(x)$')\n",
    "plt.legend(loc='best');"
   ]
  }
 ],
 "metadata": {
  "kernelspec": {
   "display_name": "Python 3 (ipykernel)",
   "language": "python",
   "name": "python3"
  },
  "language_info": {
   "codemirror_mode": {
    "name": "ipython",
    "version": 3
   },
   "file_extension": ".py",
   "mimetype": "text/x-python",
   "name": "python",
   "nbconvert_exporter": "python",
   "pygments_lexer": "ipython3",
   "version": "3.9.9"
  }
 },
 "nbformat": 4,
 "nbformat_minor": 5
}
